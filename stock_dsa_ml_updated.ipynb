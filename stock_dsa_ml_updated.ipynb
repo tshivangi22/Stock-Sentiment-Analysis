{
 "cells": [
  {
   "cell_type": "code",
   "execution_count": null,
   "metadata": {
    "colab": {
     "base_uri": "https://localhost:8080/",
     "height": 73
    },
    "id": "8iqzvMfIx3kT",
    "outputId": "33eba652-b6f2-409f-8b8d-24dce3148090"
   },
   "outputs": [],
   "source": [
    "from google.colab import files\n",
    "uploaded = files.upload()\n"
   ]
  },
  {
   "cell_type": "code",
   "execution_count": null,
   "metadata": {
    "colab": {
     "base_uri": "https://localhost:8080/"
    },
    "id": "JC6-ars7yHuo",
    "outputId": "4961e452-036a-45dc-f7ac-86d1e6a474d8"
   },
   "outputs": [],
   "source": [
    "!pip install mplfinance\n"
   ]
  },
  {
   "cell_type": "code",
   "execution_count": null,
   "metadata": {
    "colab": {
     "base_uri": "https://localhost:8080/",
     "height": 975
    },
    "id": "Si6-elwFyexY",
    "outputId": "efb47e31-5c32-4511-a9d7-a51a8c34cfca"
   },
   "outputs": [],
   "source": [
    "import pandas as pd\n",
    "import mplfinance as mpf\n",
    "\n",
    "# Load the uploaded CSV\n",
    "df = pd.read_csv(\"enhanced_stock_dataset.csv\")\n",
    "\n",
    "# Convert 'Date' to datetime and set as index\n",
    "df['Date'] = pd.to_datetime(df['Date'])\n",
    "df.set_index('Date', inplace=True)\n",
    "\n",
    "# Select required columns (OHLCV)\n",
    "df = df[['Open', 'High', 'Low', 'Close', 'Volume']]\n",
    "\n",
    "# Plot candlestick with 3-day and 10-day moving averages\n",
    "mpf.plot(\n",
    "    df,\n",
    "    type='candle',\n",
    "    style='charles',\n",
    "    mav=(3, 10),\n",
    "    volume=True,\n",
    "    title='Candlestick Chart with Moving Averages',\n",
    "    ylabel='Price',\n",
    "    ylabel_lower='Volume',\n",
    "    figratio=(16,8),\n",
    "    figscale=1.4\n",
    ")\n"
   ]
  },
  {
   "cell_type": "code",
   "execution_count": null,
   "metadata": {
    "colab": {
     "base_uri": "https://localhost:8080/",
     "height": 579
    },
    "id": "5njyw7uSzbBk",
    "outputId": "fb8a5cda-cc26-4c04-8724-2d4a39c0d6e9"
   },
   "outputs": [],
   "source": [
    "import pandas as pd\n",
    "import mplfinance as mpf\n",
    "\n",
    "# Load your dataset\n",
    "df = pd.read_csv('enhanced_stock_dataset.csv', parse_dates=['Date'], index_col='Date')\n",
    "\n",
    "# OPTIONAL: Check the available date range\n",
    "print(df.index.min(), df.index.max())\n",
    "\n",
    "# 🔍 Select a specific range (for example: July 2021)\n",
    "df_zoom = df.loc['2013-01-01':'2013-06-30']\n",
    "\n",
    "# Plot candlestick chart for the zoomed-in range\n",
    "mpf.plot(df_zoom,\n",
    "         type='candle',\n",
    "         volume=True,\n",
    "         style='yahoo',\n",
    "         title='Stock Candlestick Chart: Jan 2013 to June 2013',\n",
    "         ylabel='Price',\n",
    "         ylabel_lower='Volume')\n"
   ]
  },
  {
   "cell_type": "code",
   "execution_count": null,
   "metadata": {
    "colab": {
     "base_uri": "https://localhost:8080/",
     "height": 577
    },
    "id": "G9u5hrAA02pQ",
    "outputId": "8f649152-ea21-4d3f-8af8-b8c6c1fc5143"
   },
   "outputs": [],
   "source": [
    "import pandas as pd\n",
    "import mplfinance as mpf\n",
    "\n",
    "# Load your dataset\n",
    "df = pd.read_csv('enhanced_stock_dataset.csv', parse_dates=['Date'], index_col='Date')\n",
    "\n",
    "# OPTIONAL: Check the available date range\n",
    "print(df.index.min(), df.index.max())\n",
    "\n",
    "# 🔍 Select a specific range (for example: July 2021)\n",
    "df_zoom = df.loc['2013-07-01':'2013-12-31']\n",
    "\n",
    "# Plot candlestick chart for the zoomed-in range\n",
    "mpf.plot(df_zoom,\n",
    "         type='candle',\n",
    "         volume=True,\n",
    "         style='yahoo',\n",
    "         title='Stock Candlestick Chart: July 2013 to Dec 2013',\n",
    "         ylabel='Price',\n",
    "         ylabel_lower='Volume')\n"
   ]
  },
  {
   "cell_type": "code",
   "execution_count": null,
   "metadata": {
    "colab": {
     "base_uri": "https://localhost:8080/",
     "height": 579
    },
    "id": "MYjm4jGa1N4d",
    "outputId": "8a36be3f-716a-4ef7-a6fe-5c93d83810d1"
   },
   "outputs": [],
   "source": [
    "import pandas as pd\n",
    "import mplfinance as mpf\n",
    "\n",
    "# Load your dataset\n",
    "df = pd.read_csv('enhanced_stock_dataset.csv', parse_dates=['Date'], index_col='Date')\n",
    "\n",
    "# OPTIONAL: Check the available date range\n",
    "print(df.index.min(), df.index.max())\n",
    "\n",
    "# 🔍 Select a specific range (for example: July 2021)\n",
    "df_zoom = df.loc['2014-01-01':'2014-06-30']\n",
    "\n",
    "# Plot candlestick chart for the zoomed-in range\n",
    "mpf.plot(df_zoom,\n",
    "         type='candle',\n",
    "         volume=True,\n",
    "         style='yahoo',\n",
    "         title='Stock Candlestick Chart: Jan 2014 to July 2014',\n",
    "         ylabel='Price',\n",
    "         ylabel_lower='Volume')"
   ]
  },
  {
   "cell_type": "code",
   "execution_count": null,
   "metadata": {
    "colab": {
     "base_uri": "https://localhost:8080/",
     "height": 577
    },
    "id": "PifTlKQ41ijW",
    "outputId": "8dded44f-2fe5-4997-f0e0-4fd018af1393"
   },
   "outputs": [],
   "source": [
    "import pandas as pd\n",
    "import mplfinance as mpf\n",
    "\n",
    "# Load your dataset\n",
    "df = pd.read_csv('enhanced_stock_dataset.csv', parse_dates=['Date'], index_col='Date')\n",
    "\n",
    "# OPTIONAL: Check the available date range\n",
    "print(df.index.min(), df.index.max())\n",
    "\n",
    "# 🔍 Select a specific range (for example: July 2021)\n",
    "df_zoom = df.loc['2014-07-01':'2014-12-31']\n",
    "\n",
    "# Plot candlestick chart for the zoomed-in range\n",
    "mpf.plot(df_zoom,\n",
    "         type='candle',\n",
    "         volume=True,\n",
    "         style='yahoo',\n",
    "         title='Stock Candlestick Chart: July 2014 to Dec 2014',\n",
    "         ylabel='Price',\n",
    "         ylabel_lower='Volume')\n"
   ]
  },
  {
   "cell_type": "code",
   "execution_count": null,
   "metadata": {
    "colab": {
     "base_uri": "https://localhost:8080/",
     "height": 579
    },
    "id": "1Kf0ztjG2O-i",
    "outputId": "105b940f-2306-4085-937d-6d6d9fc42796"
   },
   "outputs": [],
   "source": [
    "import pandas as pd\n",
    "import mplfinance as mpf\n",
    "\n",
    "# Load your dataset\n",
    "df = pd.read_csv('enhanced_stock_dataset.csv', parse_dates=['Date'], index_col='Date')\n",
    "\n",
    "# OPTIONAL: Check the available date range\n",
    "print(df.index.min(), df.index.max())\n",
    "\n",
    "# 🔍 Select a specific range (for example: July 2021)\n",
    "df_zoom = df.loc['2015-01-01':'2015-06-30']\n",
    "\n",
    "# Plot candlestick chart for the zoomed-in range\n",
    "mpf.plot(df_zoom,\n",
    "         type='candle',\n",
    "         volume=True,\n",
    "         style='yahoo',\n",
    "         title='Stock Candlestick Chart: Jan 2015 to July 2015',\n",
    "         ylabel='Price',\n",
    "         ylabel_lower='Volume')"
   ]
  },
  {
   "cell_type": "code",
   "execution_count": null,
   "metadata": {
    "colab": {
     "base_uri": "https://localhost:8080/",
     "height": 577
    },
    "id": "R-LIZXc72Vfc",
    "outputId": "303ab637-ea5a-438f-ed62-118db93af11b"
   },
   "outputs": [],
   "source": [
    "import pandas as pd\n",
    "import mplfinance as mpf\n",
    "\n",
    "# Load your dataset\n",
    "df = pd.read_csv('enhanced_stock_dataset.csv', parse_dates=['Date'], index_col='Date')\n",
    "\n",
    "# OPTIONAL: Check the available date range\n",
    "print(df.index.min(), df.index.max())\n",
    "\n",
    "# 🔍 Select a specific range (for example: July 2021)\n",
    "df_zoom = df.loc['2015-07-01':'2015-12-31']\n",
    "\n",
    "# Plot candlestick chart for the zoomed-in range\n",
    "mpf.plot(df_zoom,\n",
    "         type='candle',\n",
    "         volume=True,\n",
    "         style='yahoo',\n",
    "         title='Stock Candlestick Chart: July 2015 to Dec 2015',\n",
    "         ylabel='Price',\n",
    "         ylabel_lower='Volume')\n"
   ]
  },
  {
   "cell_type": "code",
   "execution_count": null,
   "metadata": {
    "colab": {
     "base_uri": "https://localhost:8080/",
     "height": 579
    },
    "id": "Ak9E9vyg2tFT",
    "outputId": "3cab3f62-0a27-4b0b-c357-e37763fe3f7c"
   },
   "outputs": [],
   "source": [
    "import pandas as pd\n",
    "import mplfinance as mpf\n",
    "\n",
    "# Load your dataset\n",
    "df = pd.read_csv('enhanced_stock_dataset.csv', parse_dates=['Date'], index_col='Date')\n",
    "\n",
    "# OPTIONAL: Check the available date range\n",
    "print(df.index.min(), df.index.max())\n",
    "\n",
    "# 🔍 Select a specific range (for example: July 2021)\n",
    "df_zoom = df.loc['2016-01-01':'2016-06-30']\n",
    "\n",
    "# Plot candlestick chart for the zoomed-in range\n",
    "mpf.plot(df_zoom,\n",
    "         type='candle',\n",
    "         volume=True,\n",
    "         style='yahoo',\n",
    "         title='Stock Candlestick Chart: Jan 2016 to July 2016',\n",
    "         ylabel='Price',\n",
    "         ylabel_lower='Volume')"
   ]
  },
  {
   "cell_type": "code",
   "execution_count": null,
   "metadata": {
    "colab": {
     "base_uri": "https://localhost:8080/",
     "height": 577
    },
    "id": "-66SyViZ2y9W",
    "outputId": "9a6c7f75-946f-4844-f524-95d69990b285"
   },
   "outputs": [],
   "source": [
    "import pandas as pd\n",
    "import mplfinance as mpf\n",
    "\n",
    "# Load your dataset\n",
    "df = pd.read_csv('enhanced_stock_dataset.csv', parse_dates=['Date'], index_col='Date')\n",
    "\n",
    "# OPTIONAL: Check the available date range\n",
    "print(df.index.min(), df.index.max())\n",
    "\n",
    "# 🔍 Select a specific range (for example: July 2021)\n",
    "df_zoom = df.loc['2016-07-01':'2016-12-31']\n",
    "\n",
    "# Plot candlestick chart for the zoomed-in range\n",
    "mpf.plot(df_zoom,\n",
    "         type='candle',\n",
    "         volume=True,\n",
    "         style='yahoo',\n",
    "         title='Stock Candlestick Chart: July 2016 to Dec 2016',\n",
    "         ylabel='Price',\n",
    "         ylabel_lower='Volume')"
   ]
  },
  {
   "cell_type": "code",
   "execution_count": null,
   "metadata": {
    "colab": {
     "base_uri": "https://localhost:8080/",
     "height": 579
    },
    "id": "xYhNCcLZ290J",
    "outputId": "90781ea8-cebb-4d50-f586-f6969b76fbb8"
   },
   "outputs": [],
   "source": [
    "import pandas as pd\n",
    "import mplfinance as mpf\n",
    "\n",
    "# Load your dataset\n",
    "df = pd.read_csv('enhanced_stock_dataset.csv', parse_dates=['Date'], index_col='Date')\n",
    "\n",
    "# OPTIONAL: Check the available date range\n",
    "print(df.index.min(), df.index.max())\n",
    "\n",
    "# 🔍 Select a specific range (for example: July 2021)\n",
    "df_zoom = df.loc['2017-01-01':'2017-06-30']\n",
    "\n",
    "# Plot candlestick chart for the zoomed-in range\n",
    "mpf.plot(df_zoom,\n",
    "         type='candle',\n",
    "         volume=True,\n",
    "         style='yahoo',\n",
    "         title='Stock Candlestick Chart: Jan 2017 to July 2017',\n",
    "         ylabel='Price',\n",
    "         ylabel_lower='Volume')"
   ]
  },
  {
   "cell_type": "code",
   "execution_count": null,
   "metadata": {
    "colab": {
     "base_uri": "https://localhost:8080/",
     "height": 606
    },
    "id": "bwDrrZc33H7i",
    "outputId": "69536677-fb75-4956-e788-65d9126c57a9"
   },
   "outputs": [],
   "source": [
    "import pandas as pd\n",
    "import mplfinance as mpf\n",
    "\n",
    "# Load your dataset\n",
    "df = pd.read_csv('enhanced_stock_dataset.csv', parse_dates=['Date'], index_col='Date')\n",
    "\n",
    "# OPTIONAL: Check the available date range\n",
    "print(df.index.min(), df.index.max())\n",
    "\n",
    "# 🔍 Select a specific range (for example: July 2021)\n",
    "df_zoom = df.loc['2017-07-01':'2018-02-28']\n",
    "\n",
    "# Plot candlestick chart for the zoomed-in range\n",
    "mpf.plot(df_zoom,\n",
    "         type='candle',\n",
    "         volume=True,\n",
    "         style='yahoo',\n",
    "         title='Stock Candlestick Chart: July 2017 to Feb 2018',\n",
    "         ylabel='Price',\n",
    "         ylabel_lower='Volume')"
   ]
  },
  {
   "cell_type": "code",
   "execution_count": null,
   "metadata": {
    "colab": {
     "base_uri": "https://localhost:8080/",
     "height": 589
    },
    "id": "n9gMCT-W7Q3h",
    "outputId": "f2b43c0a-d83b-4ba6-a4ec-7f8edd6cbc6e"
   },
   "outputs": [],
   "source": [
    "import pandas as pd\n",
    "import mplfinance as mpf\n",
    "import numpy as np\n",
    "\n",
    "# Load and prepare data\n",
    "df = pd.read_csv(\"enhanced_stock_dataset.csv\", parse_dates=['Date'])\n",
    "df.set_index('Date', inplace=True)\n",
    "\n",
    "# Ensure we have required columns\n",
    "required_cols = ['Open', 'High', 'Low', 'Close', 'Volume', 'Sentiment']\n",
    "df = df[required_cols]\n",
    "\n",
    "# Reduce data to last 90 days (adjust as needed)\n",
    "plot_data = df.iloc[-90:]\n",
    "\n",
    "# Create sentiment highlights - FIXED VERSION\n",
    "sentiment_highlights = []\n",
    "colors = {'Bullish': 'lime', 'Bearish': 'yellow', 'Neutral': 'gray'}\n",
    "\n",
    "for sentiment, color in colors.items():\n",
    "    mask = (plot_data['Sentiment'] == sentiment)\n",
    "    if mask.any():\n",
    "        # Create proper y-values aligned with the mask\n",
    "        y_values = np.where(mask, plot_data['Close'], np.nan)\n",
    "\n",
    "        highlight = mpf.make_addplot(\n",
    "            y_values,\n",
    "            type='scatter',\n",
    "            marker='|',\n",
    "            color=color,\n",
    "            alpha=0.3,\n",
    "            markersize=1000,\n",
    "            fill_between=dict(\n",
    "                y1=plot_data['Low'].min(),\n",
    "                y2=plot_data['High'].max(),\n",
    "                alpha=0.001\n",
    "            )\n",
    "        )\n",
    "        sentiment_highlights.append(highlight)\n",
    "\n",
    "# Plot configuration\n",
    "plot_kwargs = {\n",
    "    'type': 'candle',\n",
    "    'style': 'charles',\n",
    "    'mav': (3, 10),\n",
    "    'volume': True,\n",
    "    'title': 'Stock Price with Sentiment Overlay',\n",
    "    'ylabel': 'Price',\n",
    "    'ylabel_lower': 'Volume',\n",
    "    'figratio': (16, 8),\n",
    "    'warn_too_much_data': 10000,\n",
    "    'addplot': sentiment_highlights\n",
    "}\n",
    "\n",
    "# Generate the plot\n",
    "mpf.plot(plot_data, **plot_kwargs)"
   ]
  },
  {
   "cell_type": "code",
   "execution_count": null,
   "metadata": {
    "colab": {
     "base_uri": "https://localhost:8080/"
    },
    "id": "_JOukvtXUD7F",
    "outputId": "876c4da4-2aff-45c8-9fe0-26fe07c67aa4"
   },
   "outputs": [],
   "source": [
    "import pandas as pd\n",
    "import mplfinance as mpf\n",
    "import matplotlib.pyplot as plt\n",
    "import numpy as np\n",
    "\n",
    "# 1. Load data\n",
    "df = pd.read_csv(\"enhanced_stock_dataset.csv\", parse_dates=['Date'])\n",
    "df.set_index('Date', inplace=True)\n",
    "\n",
    "# 2. Filter data by custom date range (edit these as needed)\n",
    "start_date = '2013-02-11'\n",
    "end_date = '2018-02-07'\n",
    "plot_data = df.loc[start_date:end_date]\n",
    "\n",
    "# Optional check\n",
    "print(\"Data range selected:\", plot_data.index.min(), \"to\", plot_data.index.max())\n",
    "print(\"Sentiment counts:\\n\", plot_data['Sentiment'].value_counts())\n",
    "print(\"Bearish days in selected timeframe:\",\n",
    "plot_data[plot_data['Sentiment'] == 'Bearish'].shape[0])\n",
    "bearish_mask = plot_data['Sentiment'] == 'Bearish'\n",
    "print(\"Bearish mask sample:\\n\", bearish_mask.head())\n",
    "print(\"Bearish y-values:\\n\", plot_data['Low'][bearish_mask] * 0.98)\n",
    "# 3. Create sentiment markers\n",
    "def create_sentiment_markers(data):\n",
    "    apds = []\n",
    "    sentiment_config = {\n",
    "        'Bullish': {'marker': '^', 'color': 'lime', 'size': 50, 'y_offset': 0.02},\n",
    "        'Bearish': {'marker': 'v', 'color': 'red', 'size': 50, 'y_offset': -0.02},\n",
    "        'Neutral': {'marker': 'o', 'color': 'gray', 'size': 25, 'y_offset': 0}\n",
    "    }\n",
    "\n",
    "    for sentiment, config in sentiment_config.items():\n",
    "        mask = data['Sentiment'] == sentiment\n",
    "        if mask.sum() == 0:\n",
    "            continue  # Skip if no such sentiment present\n",
    "\n",
    "        # y-values offset based on High/Low\n",
    "        if config['y_offset'] > 0:\n",
    "            y_values = data['High'] * (1 + config['y_offset'])\n",
    "        elif config['y_offset'] < 0:\n",
    "            y_values = data['Low'] * (1 + config['y_offset'])\n",
    "        else:\n",
    "            y_values = data['Close']\n",
    "\n",
    "        apd = mpf.make_addplot(\n",
    "            y_values.where(mask),  # ensures matching x and y lengths\n",
    "            type='scatter',\n",
    "            marker=config['marker'],\n",
    "            color=config['color'],\n",
    "            markersize=config['size'],\n",
    "            alpha=0.7,\n",
    "            panel=0\n",
    "        )\n",
    "        apds.append(apd)\n",
    "        print(f\"Adding sentiment markers for: {sentiment}, Count: {mask.sum()}\")\n",
    "    return apds\n",
    "\n",
    "# 4. Plot\n",
    "try:\n",
    "    sentiment_markers = create_sentiment_markers(plot_data)\n",
    "    mpf.plot(\n",
    "        plot_data[['Open', 'High', 'Low', 'Close', 'Volume']],\n",
    "        type='candle',\n",
    "        style='charles',\n",
    "        mav=(3, 10),\n",
    "        volume=True,\n",
    "        addplot=sentiment_markers,\n",
    "        title='Stock Price with Sentiment Indicators',\n",
    "        figratio=(16, 8),\n",
    "        savefig='stock_with_sentiment.png'\n",
    "    )\n",
    "    print(\"✅ Plot successfully generated as 'stock_with_sentiment.png'\")\n",
    "except Exception as e:\n",
    "    print(f\"❌ Error generating plot: {str(e)}\")\n",
    "    print(\"Please check dataset format and sentiment values.\")\n"
   ]
  },
  {
   "cell_type": "code",
   "execution_count": null,
   "metadata": {
    "colab": {
     "base_uri": "https://localhost:8080/",
     "height": 592
    },
    "id": "chpSIkFWUSmJ",
    "outputId": "4b797f74-da74-473f-fbfd-a8650af6e29e"
   },
   "outputs": [],
   "source": [
    "from IPython.display import Image\n",
    "Image(filename='stock_with_sentiment.png')"
   ]
  },
  {
   "cell_type": "code",
   "execution_count": null,
   "metadata": {
    "id": "0R3YiD4fsJab"
   },
   "outputs": [],
   "source": [
    "def compute_rsi(df, window=14):\n",
    "    delta = df['Close'].diff()\n",
    "    gain = delta.clip(lower=0)\n",
    "    loss = -delta.clip(upper=0)\n",
    "    avg_gain = gain.rolling(window).mean()\n",
    "    avg_loss = loss.rolling(window).mean()\n",
    "    rs = avg_gain / avg_loss\n",
    "    df['RSI'] = 100 - (100 / (1 + rs))\n",
    "    return df\n"
   ]
  },
  {
   "cell_type": "code",
   "execution_count": null,
   "metadata": {
    "id": "JNY_PHqdsQQ5"
   },
   "outputs": [],
   "source": [
    "def compute_macd(df, short_window=12, long_window=26, signal_window=9):\n",
    "    short_ema = df['Close'].ewm(span=short_window, adjust=False).mean()\n",
    "    long_ema = df['Close'].ewm(span=long_window, adjust=False).mean()\n",
    "    df['MACD'] = short_ema - long_ema\n",
    "    df['MACD_Signal'] = df['MACD'].ewm(span=signal_window, adjust=False).mean()\n",
    "    return df\n"
   ]
  },
  {
   "cell_type": "code",
   "execution_count": null,
   "metadata": {
    "id": "ipnP2Dt7sU1F"
   },
   "outputs": [],
   "source": [
    "def compute_bollinger_bands(df, window=20, num_std=2):\n",
    "    sma = df['Close'].rolling(window=window).mean()\n",
    "    std = df['Close'].rolling(window=window).std()\n",
    "    df['BB_Upper'] = sma + num_std * std\n",
    "    df['BB_Lower'] = sma - num_std * std\n",
    "    return df\n"
   ]
  },
  {
   "cell_type": "code",
   "execution_count": null,
   "metadata": {
    "id": "9SvUJvXqsY2o"
   },
   "outputs": [],
   "source": [
    "import pandas as pd\n",
    "\n",
    "df = pd.read_csv(\"enhanced_stock_dataset.csv\", parse_dates=[\"Date\"], index_col=\"Date\")\n",
    "df = compute_rsi(df)\n",
    "df = compute_macd(df)\n",
    "df = compute_bollinger_bands(df)\n",
    "df.to_csv(\"data_with_indicators.csv\")\n"
   ]
  },
  {
   "cell_type": "code",
   "execution_count": null,
   "metadata": {
    "colab": {
     "base_uri": "https://localhost:8080/",
     "height": 849
    },
    "id": "AQWyWBdhu_08",
    "outputId": "6652fd1b-c194-4261-f252-6fe76419db6d"
   },
   "outputs": [],
   "source": [
    "import mplfinance as mpf\n",
    "start_date = '2013-02-11'\n",
    "end_date = '2018-02-07'\n",
    "plot_data = df.loc[start_date:end_date]\n",
    "indicator_plots = [\n",
    "    mpf.make_addplot(plot_data['RSI'], panel=1, color='purple', ylabel='RSI'),\n",
    "    mpf.make_addplot(plot_data['MACD'], panel=2, color='blue', ylabel='MACD'),\n",
    "    mpf.make_addplot(plot_data['MACD_Signal'], panel=2, color='orange'),\n",
    "    mpf.make_addplot(plot_data['BB_Upper'], color='green'),\n",
    "    mpf.make_addplot(plot_data['BB_Lower'], color='red')\n",
    "]\n",
    "mpf.plot(\n",
    "    plot_data,\n",
    "    type='candle',\n",
    "    style='yahoo',\n",
    "    addplot=indicator_plots,\n",
    "    volume=True,\n",
    "    title=f'Stock with RSI, MACD, Bollinger Bands ({start_date} to {end_date})'\n",
    ")\n"
   ]
  },
  {
   "cell_type": "code",
   "execution_count": null,
   "metadata": {
    "colab": {
     "base_uri": "https://localhost:8080/"
    },
    "id": "ytMhuI7GzXma",
    "outputId": "acc4a38f-8261-465c-c6c3-c7a07a14a44e"
   },
   "outputs": [],
   "source": [
    "!pip install ipywidgets"
   ]
  },
  {
   "cell_type": "code",
   "execution_count": null,
   "metadata": {
    "colab": {
     "base_uri": "https://localhost:8080/",
     "height": 708,
     "referenced_widgets": [
      "5dfb09f79e0943b68a50b033b7eb465c",
      "588d56ce5524494aaaf5d504fe93b6ee",
      "48e7bb07dfc541c68385727622944b54",
      "c8c187ef6d924f6dbb92ba820470dcfe",
      "569109ff5a1149d089a097b07492dcc2",
      "9f289b78e34e4611b514ea03a70e1342",
      "3081971d2dcf4c148347035185ef23d5",
      "9a677164c0d1429f8c94aca1527019c5",
      "babf1591d0e24a80b0e6f3e0463efb1b"
     ]
    },
    "id": "4jrZ7rlQzb7B",
    "outputId": "d9ffb51b-70cf-484a-d8f1-d062c3a98d7c"
   },
   "outputs": [],
   "source": [
    "import pandas as pd\n",
    "import mplfinance as mpf\n",
    "import matplotlib.pyplot as plt\n",
    "import ipywidgets as widgets\n",
    "from IPython.display import display\n",
    "\n",
    "# Assume your df is already preloaded and has RSI, MACD, etc.\n",
    "df.index = pd.to_datetime(df.index)\n",
    "\n",
    "# Widgets for selecting start and end dates\n",
    "start_picker = widgets.DatePicker(\n",
    "    description='Start Date',\n",
    "    value=pd.to_datetime(\"2013-02-11\"),\n",
    "    disabled=False\n",
    ")\n",
    "\n",
    "end_picker = widgets.DatePicker(\n",
    "    description='End Date',\n",
    "    value=pd.to_datetime(\"2013-08-31\"),\n",
    "    disabled=False\n",
    ")\n",
    "\n",
    "plot_button = widgets.Button(description=\"Plot Chart\")\n",
    "\n",
    "def plot_interactive_chart(b):\n",
    "    start_date = start_picker.value.strftime('%Y-%m-%d')\n",
    "    end_date = end_picker.value.strftime('%Y-%m-%d')\n",
    "    plot_data = df.loc[start_date:end_date]\n",
    "\n",
    "    # Make indicator plots (assumes indicators already computed in df)\n",
    "    indicator_plots = [\n",
    "        mpf.make_addplot(plot_data['RSI'], panel=1, color='purple', ylabel='RSI'),\n",
    "        mpf.make_addplot(plot_data['MACD'], panel=2, color='blue', ylabel='MACD'),\n",
    "        mpf.make_addplot(plot_data['MACD_Signal'], panel=2, color='orange'),\n",
    "        mpf.make_addplot(plot_data['BB_Upper'], color='green'),\n",
    "        mpf.make_addplot(plot_data['BB_Lower'], color='red')\n",
    "    ]\n",
    "\n",
    "    # Add sentiment markers (optional)\n",
    "    sentiment_markers = create_sentiment_markers(plot_data)\n",
    "    all_plots = indicator_plots + sentiment_markers\n",
    "\n",
    "    # Plot\n",
    "    mpf.plot(\n",
    "        plot_data,\n",
    "        type='candle',\n",
    "        style='yahoo',\n",
    "        addplot=all_plots,\n",
    "        volume=True,\n",
    "        title=f'Stock Chart ({start_date} to {end_date})',\n",
    "        figratio=(16, 8)\n",
    "    )\n",
    "\n",
    "# Bind button to function\n",
    "plot_button.on_click(plot_interactive_chart)\n",
    "\n",
    "# Display\n",
    "display(start_picker, end_picker, plot_button)\n"
   ]
  },
  {
   "cell_type": "code",
   "execution_count": null,
   "metadata": {
    "id": "ZknT3zQLRBHg"
   },
   "outputs": [],
   "source": [
    "def label_sentiment_enhanced(df):\n",
    "    sentiment = []\n",
    "\n",
    "    for i in range(len(df)):\n",
    "        row = df.iloc[i]\n",
    "\n",
    "        rsi = row.get('RSI')\n",
    "        macd = row.get('MACD')\n",
    "        signal = row.get('MACD_Signal')\n",
    "        close = row.get('Close')\n",
    "        upper_band = row.get('BB_Upper')\n",
    "        lower_band = row.get('BB_Lower')\n",
    "\n",
    "        label = 'Neutral'\n",
    "\n",
    "        # Skip rows with missing values\n",
    "        if pd.isna(rsi) or pd.isna(macd) or pd.isna(signal):\n",
    "            sentiment.append(np.nan)\n",
    "            continue\n",
    "\n",
    "        # --- Bullish Conditions ---\n",
    "        if (\n",
    "            rsi < 30 or\n",
    "            (macd > signal and macd - signal > 0.2) or\n",
    "            (not pd.isna(lower_band) and close < lower_band)\n",
    "        ):\n",
    "            label = 'Bullish'\n",
    "\n",
    "        # --- Bearish Conditions ---\n",
    "        elif (\n",
    "            rsi > 70 or\n",
    "            (macd < signal and signal - macd > 0.2) or\n",
    "            (not pd.isna(upper_band) and close > upper_band)\n",
    "        ):\n",
    "            label = 'Bearish'\n",
    "\n",
    "        sentiment.append(label)\n",
    "\n",
    "    df['Sentiment_Enhanced'] = sentiment\n",
    "\n",
    "    return df\n"
   ]
  },
  {
   "cell_type": "code",
   "execution_count": null,
   "metadata": {
    "id": "SCTQzeoURGzL"
   },
   "outputs": [],
   "source": [
    "df = compute_rsi(df)\n",
    "df = compute_macd(df)\n",
    "df = compute_bollinger_bands(df)\n",
    "df = label_sentiment_enhanced(df)\n",
    "start_date = '2013-02-11'\n",
    "end_date = '2018-02-07'\n",
    "plot_data = df.loc[start_date:end_date]"
   ]
  },
  {
   "cell_type": "code",
   "execution_count": null,
   "metadata": {
    "colab": {
     "base_uri": "https://localhost:8080/"
    },
    "id": "Dw3LIqNVVP_E",
    "outputId": "05143d28-e985-4b7b-f443-ab8b365d007d"
   },
   "outputs": [],
   "source": [
    "import mplfinance as mpf\n",
    "\n",
    "def create_enhanced_sentiment_markers(data):\n",
    "    apds = []\n",
    "    sentiment_config = {\n",
    "        'Bullish': {'marker': '^', 'color': 'lime', 'size': 50, 'y_offset': 0.02},\n",
    "        'Bearish': {'marker': 'v', 'color': 'red', 'size': 50, 'y_offset': -0.02},\n",
    "        'Neutral': {'marker': 'o', 'color': 'gray', 'size': 25, 'y_offset': 0}\n",
    "    }\n",
    "\n",
    "    for sentiment, config in sentiment_config.items():\n",
    "        mask = data['Sentiment_Enhanced'] == sentiment\n",
    "        if mask.sum() == 0:\n",
    "            continue  # Skip if no such sentiment present\n",
    "\n",
    "        # y-values offset based on High/Low/Close\n",
    "        if config['y_offset'] > 0:\n",
    "            y_values = data['High'] * (1 + config['y_offset'])\n",
    "        elif config['y_offset'] < 0:\n",
    "            y_values = data['Low'] * (1 + config['y_offset'])\n",
    "        else:\n",
    "            y_values = data['Close']\n",
    "\n",
    "        apd = mpf.make_addplot(\n",
    "            y_values.where(mask),\n",
    "            type='scatter',\n",
    "            marker=config['marker'],\n",
    "            color=config['color'],\n",
    "            markersize=config['size'],\n",
    "            alpha=0.7,\n",
    "            panel=0\n",
    "        )\n",
    "        apds.append(apd)\n",
    "        print(f\"📍 Added Enhanced Sentiment Markers for: {sentiment}, Count: {mask.sum()}\")\n",
    "\n",
    "    return apds\n",
    "\n",
    "# 🔁 Apply to selected plot_data range\n",
    "try:\n",
    "    enhanced_sentiment_markers = create_enhanced_sentiment_markers(plot_data)\n",
    "\n",
    "    mpf.plot(\n",
    "        plot_data[['Open', 'High', 'Low', 'Close', 'Volume']],\n",
    "        type='candle',\n",
    "        style='yahoo',\n",
    "        mav=(3, 10),\n",
    "        volume=True,\n",
    "        addplot=enhanced_sentiment_markers,\n",
    "        title='Stock Price with Enhanced Sentiment Markers',\n",
    "        figratio=(16, 8),\n",
    "        savefig='stock_with_enhanced_sentiment.png'\n",
    "    )\n",
    "    print(\"✅ Enhanced sentiment plot saved as 'stock_with_enhanced_sentiment.png'\")\n",
    "except Exception as e:\n",
    "    print(f\"❌ Error: {str(e)}\")\n"
   ]
  },
  {
   "cell_type": "code",
   "execution_count": null,
   "metadata": {
    "colab": {
     "base_uri": "https://localhost:8080/",
     "height": 592
    },
    "id": "hwqfEbh3XhL6",
    "outputId": "9742a789-88c6-4b17-d13b-4b2a764bad2a"
   },
   "outputs": [],
   "source": [
    "from IPython.display import Image\n",
    "Image(filename='stock_with_enhanced_sentiment.png')"
   ]
  },
  {
   "cell_type": "code",
   "execution_count": null,
   "metadata": {
    "colab": {
     "base_uri": "https://localhost:8080/"
    },
    "id": "HKp38cOp3pJC",
    "outputId": "6cd36f4e-4561-4c85-8857-a4da383f4bbd"
   },
   "outputs": [],
   "source": [
    "# 🔄 Save the dataset with enhanced sentiment\n",
    "output_file = 'enhanced_sentiment_stock_data.csv'\n",
    "df.to_csv(output_file, index=True)\n",
    "print(f\"📁 Enhanced dataset saved to '{output_file}'\")\n"
   ]
  },
  {
   "cell_type": "code",
   "execution_count": null,
   "metadata": {
    "id": "RcaQjb4lD0j-"
   },
   "outputs": [],
   "source": [
    "def backtest_strategy(df, sentiment_column, initial_cash=100000):\n",
    "    cash = initial_cash\n",
    "    shares = 0\n",
    "    portfolio_values = []\n",
    "    portfolio_dates = []\n",
    "    trades_log = []\n",
    "\n",
    "    for i, row in df.iterrows():\n",
    "        price = row['Close']\n",
    "        signal = row[sentiment_column]\n",
    "\n",
    "        # Record current portfolio value\n",
    "        total_value = cash + shares * price\n",
    "        portfolio_values.append(total_value)\n",
    "        portfolio_dates.append(i)\n",
    "\n",
    "        # BUY\n",
    "        if signal == 'Bullish' and shares == 0:\n",
    "            shares = cash // price\n",
    "            cash -= shares * price\n",
    "            trades_log.append((i, 'BUY', price, shares))\n",
    "\n",
    "        # SELL\n",
    "        elif signal == 'Bearish' and shares > 0:\n",
    "            cash += shares * price\n",
    "            trades_log.append((i, 'SELL', price, shares))\n",
    "            shares = 0\n",
    "\n",
    "    # Final value\n",
    "    final_value = cash + shares * df.iloc[-1]['Close']\n",
    "    total_return = (final_value - initial_cash) / initial_cash * 100\n",
    "    num_trades = len(trades_log)\n",
    "\n",
    "    print(f\"\\n📊 Backtest Results for: {sentiment_column}\")\n",
    "    print(f\"➡️ Final Portfolio Value: ₹{final_value:,.2f}\")\n",
    "    print(f\"📈 Total Return: {total_return:.2f}%\")\n",
    "    print(f\"🔁 Total Trades Executed: {num_trades}\")\n",
    "\n",
    "    return portfolio_dates, portfolio_values, trades_log\n",
    "\n"
   ]
  },
  {
   "cell_type": "code",
   "execution_count": null,
   "metadata": {
    "id": "9EFkiSQPIk24"
   },
   "outputs": [],
   "source": [
    "import matplotlib.pyplot as plt\n",
    "\n",
    "def plot_portfolio_growth(dates, values_basic, values_enhanced):\n",
    "    plt.figure(figsize=(14, 6))\n",
    "    plt.plot(dates, values_basic, label='Sentiment Strategy', color='orange', linewidth=2)\n",
    "    plt.plot(dates, values_enhanced, label='Enhanced Sentiment Strategy', color='green', linewidth=2)\n",
    "    plt.title('📈 Portfolio Growth Comparison')\n",
    "    plt.xlabel('Date')\n",
    "    plt.ylabel('Portfolio Value (₹)')\n",
    "    plt.legend()\n",
    "    plt.grid(True)\n",
    "    plt.tight_layout()\n",
    "    plt.show()\n"
   ]
  },
  {
   "cell_type": "code",
   "execution_count": null,
   "metadata": {
    "colab": {
     "base_uri": "https://localhost:8080/",
     "height": 771
    },
    "id": "BxOpfKLpD5vc",
    "outputId": "b5bcfa3a-8c0b-472d-8175-80f40c63b572"
   },
   "outputs": [],
   "source": [
    "# Run both\n",
    "dates1, values1, trades1 = backtest_strategy(df, 'Sentiment')\n",
    "dates2, values2, trades2 = backtest_strategy(df, 'Sentiment_Enhanced')\n",
    "\n",
    "# Plot growth comparison\n",
    "plot_portfolio_growth(dates1, values1, values2)\n",
    "\n"
   ]
  },
  {
   "cell_type": "code",
   "execution_count": null,
   "metadata": {
    "colab": {
     "base_uri": "https://localhost:8080/"
    },
    "id": "Ok9wi-8RJLRI",
    "outputId": "15275530-7d0a-4448-a1d7-f9d65cb2575d"
   },
   "outputs": [],
   "source": [
    "import pandas as pd\n",
    "\n",
    "def export_trades(trades, filename):\n",
    "    df_trades = pd.DataFrame(trades, columns=['Date', 'Action', 'Price', 'Shares'])\n",
    "    df_trades.to_csv(filename, index=False)\n",
    "    print(f\"📁 Trades exported to '{filename}'\")\n",
    "\n",
    "# Save logs\n",
    "export_trades(trades1, 'trades_sentiment.csv')\n",
    "export_trades(trades2, 'trades_sentiment_enhanced.csv')\n"
   ]
  },
  {
   "cell_type": "code",
   "execution_count": null,
   "metadata": {
    "colab": {
     "base_uri": "https://localhost:8080/"
    },
    "id": "shfNb0ngO85O",
    "outputId": "a0ff5725-e32e-4a56-eaa8-98019c568228"
   },
   "outputs": [],
   "source": [
    "import pandas as pd\n",
    "\n",
    "# Load the trade logs\n",
    "trades_sentiment = pd.read_csv('trades_sentiment.csv', parse_dates=['Date'])\n",
    "trades_sentiment_enhanced = pd.read_csv('trades_sentiment_enhanced.csv', parse_dates=['Date'])\n",
    "\n",
    "# Preview\n",
    "print(\"📄 Sentiment Trades\")\n",
    "print(trades_sentiment.head())\n",
    "print(\"\\n📄 Enhanced Sentiment Trades\")\n",
    "print(trades_sentiment_enhanced.head())\n"
   ]
  },
  {
   "cell_type": "code",
   "execution_count": null,
   "metadata": {
    "id": "5S4LB3uiPOn7"
   },
   "outputs": [],
   "source": [
    "def analyze_trades(trades_df):\n",
    "    trades_df = trades_df.copy()\n",
    "    trades_df['PnL'] = 0.0\n",
    "    trades_df['Holding_Days'] = 0\n",
    "\n",
    "    in_position = False\n",
    "    entry_price = 0\n",
    "    entry_date = None\n",
    "    total_gains = []\n",
    "    holding_days = []\n",
    "\n",
    "    for i in range(len(trades_df)):\n",
    "        row = trades_df.iloc[i]\n",
    "        if row['Action'] == 'BUY':\n",
    "            in_position = True\n",
    "            entry_price = row['Price']\n",
    "            entry_date = row['Date']\n",
    "        elif row['Action'] == 'SELL' and in_position:\n",
    "            exit_price = row['Price']\n",
    "            pnl = (exit_price - entry_price) * row['Shares']\n",
    "            days_held = (row['Date'] - entry_date).days\n",
    "\n",
    "            trades_df.loc[i, 'PnL'] = pnl\n",
    "            trades_df.loc[i, 'Holding_Days'] = days_held\n",
    "\n",
    "            total_gains.append(pnl)\n",
    "            holding_days.append(days_held)\n",
    "\n",
    "            in_position = False  # reset\n",
    "\n",
    "    if total_gains:\n",
    "        avg_pnl = sum(total_gains) / len(total_gains)\n",
    "        profitable = sum(1 for g in total_gains if g > 0) / len(total_gains) * 100\n",
    "        avg_hold = sum(holding_days) / len(holding_days)\n",
    "    else:\n",
    "        avg_pnl = 0\n",
    "        profitable = 0\n",
    "        avg_hold = 0\n",
    "\n",
    "    return {\n",
    "        'Total Trades': len(trades_df) // 2,\n",
    "        'Avg Gain/Loss per Trade': round(avg_pnl, 2),\n",
    "        'Profitable Trades (%)': round(profitable, 2),\n",
    "        'Avg Holding Days': round(avg_hold, 2)\n",
    "    }\n"
   ]
  },
  {
   "cell_type": "code",
   "execution_count": null,
   "metadata": {
    "colab": {
     "base_uri": "https://localhost:8080/"
    },
    "id": "80QJczuvPT6v",
    "outputId": "c54a2975-fe63-4ce3-a4ee-e5c70460ab98"
   },
   "outputs": [],
   "source": [
    "summary_sentiment = analyze_trades(trades_sentiment)\n",
    "summary_sentiment_enhanced = analyze_trades(trades_sentiment_enhanced)\n",
    "\n",
    "# Combine and view\n",
    "comparison_df = pd.DataFrame([summary_sentiment, summary_sentiment_enhanced], index=['Sentiment', 'Enhanced Sentiment'])\n",
    "print(\"📊 Trade Summary Comparison\")\n",
    "print(comparison_df)\n"
   ]
  },
  {
   "cell_type": "code",
   "execution_count": null,
   "metadata": {
    "colab": {
     "base_uri": "https://localhost:8080/"
    },
    "id": "ZNONGyacPm5h",
    "outputId": "3e1c1a91-770e-4a3f-e98e-a919227ce78d"
   },
   "outputs": [],
   "source": [
    "# Save the trade summary comparison\n",
    "comparison_df.to_csv('trade_summary_comparison.csv')\n",
    "print(\"📁 Trade summary comparison saved as 'trade_summary_comparison.csv'\")"
   ]
  },
  {
   "cell_type": "code",
   "execution_count": null,
   "metadata": {
    "colab": {
     "base_uri": "https://localhost:8080/"
    },
    "id": "ORrh-DZc-SEt",
    "outputId": "b783bfc8-f25c-43ec-cf56-2a2b3958f8d9"
   },
   "outputs": [],
   "source": [
    "import pandas as pd\n",
    "\n",
    "# Load the trade CSVs\n",
    "sentiment_df = pd.read_csv(\"trades_sentiment.csv\")\n",
    "enhanced_df = pd.read_csv(\"trades_sentiment_enhanced.csv\")\n",
    "\n",
    "from datetime import datetime\n",
    "\n",
    "def compute_metrics(trades_df):\n",
    "    trades_df['Date'] = pd.to_datetime(trades_df['Date'])\n",
    "    holding_times = []\n",
    "    profits = []\n",
    "\n",
    "    position = 0\n",
    "    entry_price = None\n",
    "    entry_date = None\n",
    "\n",
    "    for i, row in trades_df.iterrows():\n",
    "        if row['Action'] == 'BUY':\n",
    "            if position == 0:\n",
    "                entry_price = row['Price']\n",
    "                entry_date = row['Date']\n",
    "                position = row['Shares']\n",
    "        elif row['Action'] == 'SELL' and position > 0:\n",
    "            exit_price = row['Price']\n",
    "            exit_date = row['Date']\n",
    "            profit = (exit_price - entry_price) * position\n",
    "            duration = (exit_date - entry_date).days\n",
    "            profits.append(profit)\n",
    "            holding_times.append(duration)\n",
    "            position = 0  # reset\n",
    "\n",
    "    return holding_times, profits\n",
    "\n",
    "# Extract data\n",
    "holding_times_sentiment, profits_sentiment = compute_metrics(sentiment_df)\n",
    "holding_times_enhanced, profits_enhanced = compute_metrics(enhanced_df)\n",
    "\n",
    "# Sanity check\n",
    "print(\"Sentiment Trades:\", len(holding_times_sentiment))\n",
    "print(\"Enhanced Trades:\", len(holding_times_enhanced))\n"
   ]
  },
  {
   "cell_type": "code",
   "execution_count": null,
   "metadata": {
    "colab": {
     "base_uri": "https://localhost:8080/",
     "height": 494
    },
    "id": "d2Nj3Zn5-fAQ",
    "outputId": "8c7fe30e-dcfb-4284-a33a-10a3e5d7c594"
   },
   "outputs": [],
   "source": [
    "import matplotlib.pyplot as plt\n",
    "\n",
    "plt.figure(figsize=(12, 5))\n",
    "\n",
    "# --- Plot Holding Times ---\n",
    "plt.subplot(1, 2, 1)\n",
    "plt.hist(holding_times_sentiment, bins=15, alpha=0.6, label=\"Sentiment\", color='skyblue')\n",
    "plt.hist(holding_times_enhanced, bins=15, alpha=0.6, label=\"Enhanced\", color='orange')\n",
    "plt.xlabel(\"Holding Time (days)\")\n",
    "plt.ylabel(\"Number of Trades\")\n",
    "plt.title(\"Distribution of Holding Times\")\n",
    "plt.legend()\n",
    "plt.grid(True)\n",
    "\n",
    "# --- Plot PnL Distributions ---\n",
    "plt.subplot(1, 2, 2)\n",
    "plt.hist(profits_sentiment, bins=20, alpha=0.6, label=\"Sentiment\", color='skyblue')\n",
    "plt.hist(profits_enhanced, bins=20, alpha=0.6, label=\"Enhanced\", color='orange')\n",
    "plt.xlabel(\"Profit per Trade (₹)\")\n",
    "plt.ylabel(\"Number of Trades\")\n",
    "plt.title(\"Distribution of Profit per Trade\")\n",
    "plt.legend()\n",
    "plt.grid(True)\n",
    "\n",
    "plt.tight_layout()\n",
    "plt.show()\n"
   ]
  },
  {
   "cell_type": "code",
   "execution_count": null,
   "metadata": {
    "colab": {
     "base_uri": "https://localhost:8080/",
     "height": 999
    },
    "id": "y8TINPQoR6G5",
    "outputId": "97dd901d-0344-45d5-9a3e-1d74c357a3fe"
   },
   "outputs": [],
   "source": [
    "import pandas as pd\n",
    "import matplotlib.pyplot as plt\n",
    "\n",
    "# Load stock data\n",
    "df = pd.read_csv('/content/enhanced_sentiment_stock_data.csv', parse_dates=['Date'])\n",
    "df.set_index('Date', inplace=True)\n",
    "\n",
    "# Load trades\n",
    "trades_basic = pd.read_csv('/content/trades_sentiment.csv', parse_dates=['Date'])\n",
    "trades_enhanced = pd.read_csv('/content/trades_sentiment_enhanced.csv', parse_dates=['Date'])\n",
    "\n",
    "def plot_trades(df, trades, title):\n",
    "    plt.figure(figsize=(14,6))\n",
    "    plt.plot(df.index, df['Close'], label='Close Price', alpha=0.7)\n",
    "\n",
    "    # Plot Buy trades\n",
    "    buy_trades = trades[trades['Action'] == 'BUY']\n",
    "    plt.scatter(buy_trades['Date'], df.loc[buy_trades['Date']]['Close'],\n",
    "                marker='^', color='green', label='Buy', s=100)\n",
    "\n",
    "    # Plot Sell trades\n",
    "    sell_trades = trades[trades['Action'] == 'SELL']\n",
    "    plt.scatter(sell_trades['Date'], df.loc[sell_trades['Date']]['Close'],\n",
    "                marker='v', color='red', label='Sell', s=100)\n",
    "\n",
    "    plt.title(f'{title} - Trade Actions on Stock Price')\n",
    "    plt.xlabel('Date')\n",
    "    plt.ylabel('Price')\n",
    "    plt.legend()\n",
    "    plt.grid(True)\n",
    "    plt.tight_layout()\n",
    "    plt.show()\n",
    "\n",
    "# Plot for Basic Sentiment Strategy\n",
    "plot_trades(df, trades_basic, title='Basic Sentiment Strategy')\n",
    "\n",
    "# Plot for Enhanced Sentiment Strategy\n",
    "plot_trades(df, trades_enhanced, title='Enhanced Sentiment Strategy')\n"
   ]
  }
 ],
 "metadata": {
  "colab": {
   "provenance": []
  },
  "kernelspec": {
   "display_name": "Python 3",
   "name": "python3"
  },
  "language_info": {
   "name": "python"
  }
 },
 "nbformat": 4,
 "nbformat_minor": 0
}
