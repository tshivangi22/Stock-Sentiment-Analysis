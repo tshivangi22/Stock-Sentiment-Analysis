{
 "cells": [
  {
   "cell_type": "code",
   "execution_count": null,
   "metadata": {
    "colab": {
     "base_uri": "https://localhost:8080/",
     "height": 49,
     "referenced_widgets": [
      "f1208eb3d1994af9a81b9ca65b1e1032",
      "fe1a0d79161949e4831403818b69cb2a",
      "b90fb621bfeb487fbef5e15adf75a7ce"
     ]
    },
    "id": "vsZ2yUt9J70x",
    "outputId": "5a42a93f-7030-4981-8925-6126d5fb7d08"
   },
   "outputs": [],
   "source": [
    "from IPython.display import display\n",
    "import ipywidgets as widgets\n",
    "\n",
    "upload = widgets.FileUpload()\n",
    "display(upload)\n",
    "\n",
    "# After uploading\n",
    "for filename, fileinfo in upload.value.items():\n",
    "    with open(filename, \"wb\") as f:\n",
    "        f.write(fileinfo['content'])\n"
   ]
  },
  {
   "cell_type": "code",
   "execution_count": null,
   "metadata": {
    "colab": {
     "base_uri": "https://localhost:8080/",
     "height": 73
    },
    "id": "8iqzvMfIx3kT",
    "outputId": "8790c479-b9d5-4a53-843c-9caec24db2e3"
   },
   "outputs": [],
   "source": [
    "from google.colab import files\n",
    "uploaded = files.upload()\n"
   ]
  },
  {
   "cell_type": "code",
   "execution_count": null,
   "metadata": {
    "colab": {
     "base_uri": "https://localhost:8080/"
    },
    "id": "JC6-ars7yHuo",
    "outputId": "068c1a10-32cd-4267-b55b-e841cec96ef0"
   },
   "outputs": [],
   "source": [
    "!pip install mplfinance\n"
   ]
  },
  {
   "cell_type": "code",
   "execution_count": null,
   "metadata": {
    "colab": {
     "base_uri": "https://localhost:8080/",
     "height": 771
    },
    "id": "Si6-elwFyexY",
    "outputId": "420b97df-d13d-487b-dec6-f273f9a20859"
   },
   "outputs": [],
   "source": [
    "import pandas as pd\n",
    "import mplfinance as mpf\n",
    "\n",
    "# Load the uploaded CSV\n",
    "df = pd.read_csv(\"enhanced_stock_dataset.csv\")\n",
    "\n",
    "# Convert 'Date' to datetime and set as index\n",
    "df['Date'] = pd.to_datetime(df['Date'])\n",
    "df.set_index('Date', inplace=True)\n",
    "\n",
    "# Select required columns (OHLCV)\n",
    "df = df[['Open', 'High', 'Low', 'Close', 'Volume']]\n",
    "\n",
    "# Plot candlestick with 3-day and 10-day moving averages\n",
    "mpf.plot(\n",
    "    df,\n",
    "    type='candle',\n",
    "    style='charles',\n",
    "    mav=(3, 10),\n",
    "    volume=True,\n",
    "    title='Candlestick Chart with Moving Averages',\n",
    "    ylabel='Price',\n",
    "    ylabel_lower='Volume',\n",
    "    figratio=(16,8),\n",
    "    figscale=1.4\n",
    ")\n"
   ]
  },
  {
   "cell_type": "code",
   "execution_count": null,
   "metadata": {
    "colab": {
     "base_uri": "https://localhost:8080/",
     "height": 579
    },
    "id": "5njyw7uSzbBk",
    "outputId": "e525a716-6d4a-466c-eccb-c0d0c8e8d8b7"
   },
   "outputs": [],
   "source": [
    "import pandas as pd\n",
    "import mplfinance as mpf\n",
    "\n",
    "# Load your dataset\n",
    "df = pd.read_csv('enhanced_stock_dataset.csv', parse_dates=['Date'], index_col='Date')\n",
    "\n",
    "# OPTIONAL: Check the available date range\n",
    "print(df.index.min(), df.index.max())\n",
    "\n",
    "# 🔍 Select a specific range (for example: July 2021)\n",
    "df_zoom = df.loc['2013-01-01':'2013-06-30']\n",
    "\n",
    "# Plot candlestick chart for the zoomed-in range\n",
    "mpf.plot(df_zoom,\n",
    "         type='candle',\n",
    "         volume=True,\n",
    "         style='yahoo',\n",
    "         title='Stock Candlestick Chart: Jan 2013 to June 2013',\n",
    "         ylabel='Price',\n",
    "         ylabel_lower='Volume')\n"
   ]
  },
  {
   "cell_type": "code",
   "execution_count": null,
   "metadata": {
    "colab": {
     "base_uri": "https://localhost:8080/",
     "height": 577
    },
    "id": "G9u5hrAA02pQ",
    "outputId": "70c60904-8b5b-41d9-d1bf-34c9fda0bdba"
   },
   "outputs": [],
   "source": [
    "import pandas as pd\n",
    "import mplfinance as mpf\n",
    "\n",
    "# Load your dataset\n",
    "df = pd.read_csv('enhanced_stock_dataset.csv', parse_dates=['Date'], index_col='Date')\n",
    "\n",
    "# OPTIONAL: Check the available date range\n",
    "print(df.index.min(), df.index.max())\n",
    "\n",
    "# 🔍 Select a specific range (for example: July 2021)\n",
    "df_zoom = df.loc['2013-07-01':'2013-12-31']\n",
    "\n",
    "# Plot candlestick chart for the zoomed-in range\n",
    "mpf.plot(df_zoom,\n",
    "         type='candle',\n",
    "         volume=True,\n",
    "         style='yahoo',\n",
    "         title='Stock Candlestick Chart: July 2013 to Dec 2013',\n",
    "         ylabel='Price',\n",
    "         ylabel_lower='Volume')\n"
   ]
  },
  {
   "cell_type": "code",
   "execution_count": null,
   "metadata": {
    "colab": {
     "base_uri": "https://localhost:8080/",
     "height": 579
    },
    "id": "MYjm4jGa1N4d",
    "outputId": "a37162cd-d802-4ba6-e401-3e29833bf387"
   },
   "outputs": [],
   "source": [
    "import pandas as pd\n",
    "import mplfinance as mpf\n",
    "\n",
    "# Load your dataset\n",
    "df = pd.read_csv('enhanced_stock_dataset.csv', parse_dates=['Date'], index_col='Date')\n",
    "\n",
    "# OPTIONAL: Check the available date range\n",
    "print(df.index.min(), df.index.max())\n",
    "\n",
    "# 🔍 Select a specific range (for example: July 2021)\n",
    "df_zoom = df.loc['2014-01-01':'2014-06-30']\n",
    "\n",
    "# Plot candlestick chart for the zoomed-in range\n",
    "mpf.plot(df_zoom,\n",
    "         type='candle',\n",
    "         volume=True,\n",
    "         style='yahoo',\n",
    "         title='Stock Candlestick Chart: Jan 2014 to July 2014',\n",
    "         ylabel='Price',\n",
    "         ylabel_lower='Volume')"
   ]
  },
  {
   "cell_type": "code",
   "execution_count": null,
   "metadata": {
    "colab": {
     "base_uri": "https://localhost:8080/",
     "height": 577
    },
    "id": "PifTlKQ41ijW",
    "outputId": "661acec7-8766-4872-ac30-d9c6495fadf9"
   },
   "outputs": [],
   "source": [
    "import pandas as pd\n",
    "import mplfinance as mpf\n",
    "\n",
    "# Load your dataset\n",
    "df = pd.read_csv('enhanced_stock_dataset.csv', parse_dates=['Date'], index_col='Date')\n",
    "\n",
    "# OPTIONAL: Check the available date range\n",
    "print(df.index.min(), df.index.max())\n",
    "\n",
    "# 🔍 Select a specific range (for example: July 2021)\n",
    "df_zoom = df.loc['2014-07-01':'2014-12-31']\n",
    "\n",
    "# Plot candlestick chart for the zoomed-in range\n",
    "mpf.plot(df_zoom,\n",
    "         type='candle',\n",
    "         volume=True,\n",
    "         style='yahoo',\n",
    "         title='Stock Candlestick Chart: July 2014 to Dec 2014',\n",
    "         ylabel='Price',\n",
    "         ylabel_lower='Volume')\n"
   ]
  },
  {
   "cell_type": "code",
   "execution_count": null,
   "metadata": {
    "colab": {
     "base_uri": "https://localhost:8080/",
     "height": 579
    },
    "id": "1Kf0ztjG2O-i",
    "outputId": "dd55730d-4606-4a61-8024-b84b89773a57"
   },
   "outputs": [],
   "source": [
    "import pandas as pd\n",
    "import mplfinance as mpf\n",
    "\n",
    "# Load your dataset\n",
    "df = pd.read_csv('enhanced_stock_dataset.csv', parse_dates=['Date'], index_col='Date')\n",
    "\n",
    "# OPTIONAL: Check the available date range\n",
    "print(df.index.min(), df.index.max())\n",
    "\n",
    "# 🔍 Select a specific range (for example: July 2021)\n",
    "df_zoom = df.loc['2015-01-01':'2015-06-30']\n",
    "\n",
    "# Plot candlestick chart for the zoomed-in range\n",
    "mpf.plot(df_zoom,\n",
    "         type='candle',\n",
    "         volume=True,\n",
    "         style='yahoo',\n",
    "         title='Stock Candlestick Chart: Jan 2015 to July 2015',\n",
    "         ylabel='Price',\n",
    "         ylabel_lower='Volume')"
   ]
  },
  {
   "cell_type": "code",
   "execution_count": null,
   "metadata": {
    "colab": {
     "base_uri": "https://localhost:8080/",
     "height": 577
    },
    "id": "R-LIZXc72Vfc",
    "outputId": "0a06e2f3-7387-4dbd-b709-123a55524f9d"
   },
   "outputs": [],
   "source": [
    "import pandas as pd\n",
    "import mplfinance as mpf\n",
    "\n",
    "# Load your dataset\n",
    "df = pd.read_csv('enhanced_stock_dataset.csv', parse_dates=['Date'], index_col='Date')\n",
    "\n",
    "# OPTIONAL: Check the available date range\n",
    "print(df.index.min(), df.index.max())\n",
    "\n",
    "# 🔍 Select a specific range (for example: July 2021)\n",
    "df_zoom = df.loc['2015-07-01':'2015-12-31']\n",
    "\n",
    "# Plot candlestick chart for the zoomed-in range\n",
    "mpf.plot(df_zoom,\n",
    "         type='candle',\n",
    "         volume=True,\n",
    "         style='yahoo',\n",
    "         title='Stock Candlestick Chart: July 2015 to Dec 2015',\n",
    "         ylabel='Price',\n",
    "         ylabel_lower='Volume')\n"
   ]
  },
  {
   "cell_type": "code",
   "execution_count": null,
   "metadata": {
    "colab": {
     "base_uri": "https://localhost:8080/",
     "height": 579
    },
    "id": "Ak9E9vyg2tFT",
    "outputId": "f3196193-c122-422e-8018-b56815160869"
   },
   "outputs": [],
   "source": [
    "import pandas as pd\n",
    "import mplfinance as mpf\n",
    "\n",
    "# Load your dataset\n",
    "df = pd.read_csv('enhanced_stock_dataset.csv', parse_dates=['Date'], index_col='Date')\n",
    "\n",
    "# OPTIONAL: Check the available date range\n",
    "print(df.index.min(), df.index.max())\n",
    "\n",
    "# 🔍 Select a specific range (for example: July 2021)\n",
    "df_zoom = df.loc['2016-01-01':'2016-06-30']\n",
    "\n",
    "# Plot candlestick chart for the zoomed-in range\n",
    "mpf.plot(df_zoom,\n",
    "         type='candle',\n",
    "         volume=True,\n",
    "         style='yahoo',\n",
    "         title='Stock Candlestick Chart: Jan 2016 to July 2016',\n",
    "         ylabel='Price',\n",
    "         ylabel_lower='Volume')"
   ]
  },
  {
   "cell_type": "code",
   "execution_count": null,
   "metadata": {
    "colab": {
     "base_uri": "https://localhost:8080/",
     "height": 577
    },
    "id": "-66SyViZ2y9W",
    "outputId": "cf5906c3-8447-4e2b-93f5-403c12be547c"
   },
   "outputs": [],
   "source": [
    "import pandas as pd\n",
    "import mplfinance as mpf\n",
    "\n",
    "# Load your dataset\n",
    "df = pd.read_csv('enhanced_stock_dataset.csv', parse_dates=['Date'], index_col='Date')\n",
    "\n",
    "# OPTIONAL: Check the available date range\n",
    "print(df.index.min(), df.index.max())\n",
    "\n",
    "# 🔍 Select a specific range (for example: July 2021)\n",
    "df_zoom = df.loc['2016-07-01':'2016-12-31']\n",
    "\n",
    "# Plot candlestick chart for the zoomed-in range\n",
    "mpf.plot(df_zoom,\n",
    "         type='candle',\n",
    "         volume=True,\n",
    "         style='yahoo',\n",
    "         title='Stock Candlestick Chart: July 2016 to Dec 2016',\n",
    "         ylabel='Price',\n",
    "         ylabel_lower='Volume')"
   ]
  },
  {
   "cell_type": "code",
   "execution_count": null,
   "metadata": {
    "colab": {
     "base_uri": "https://localhost:8080/",
     "height": 579
    },
    "id": "xYhNCcLZ290J",
    "outputId": "df5172c3-cc0e-4408-e690-8afa5a7850fd"
   },
   "outputs": [],
   "source": [
    "import pandas as pd\n",
    "import mplfinance as mpf\n",
    "\n",
    "# Load your dataset\n",
    "df = pd.read_csv('enhanced_stock_dataset.csv', parse_dates=['Date'], index_col='Date')\n",
    "\n",
    "# OPTIONAL: Check the available date range\n",
    "print(df.index.min(), df.index.max())\n",
    "\n",
    "# 🔍 Select a specific range (for example: July 2021)\n",
    "df_zoom = df.loc['2017-01-01':'2017-06-30']\n",
    "\n",
    "# Plot candlestick chart for the zoomed-in range\n",
    "mpf.plot(df_zoom,\n",
    "         type='candle',\n",
    "         volume=True,\n",
    "         style='yahoo',\n",
    "         title='Stock Candlestick Chart: Jan 2017 to July 2017',\n",
    "         ylabel='Price',\n",
    "         ylabel_lower='Volume')"
   ]
  },
  {
   "cell_type": "code",
   "execution_count": null,
   "metadata": {
    "colab": {
     "base_uri": "https://localhost:8080/",
     "height": 606
    },
    "id": "bwDrrZc33H7i",
    "outputId": "2151f7ee-d17e-4030-eb32-5f3c3bcb31c5"
   },
   "outputs": [],
   "source": [
    "import pandas as pd\n",
    "import mplfinance as mpf\n",
    "\n",
    "# Load your dataset\n",
    "df = pd.read_csv('enhanced_stock_dataset.csv', parse_dates=['Date'], index_col='Date')\n",
    "\n",
    "# OPTIONAL: Check the available date range\n",
    "print(df.index.min(), df.index.max())\n",
    "\n",
    "# 🔍 Select a specific range (for example: July 2021)\n",
    "df_zoom = df.loc['2017-07-01':'2018-02-28']\n",
    "\n",
    "# Plot candlestick chart for the zoomed-in range\n",
    "mpf.plot(df_zoom,\n",
    "         type='candle',\n",
    "         volume=True,\n",
    "         style='yahoo',\n",
    "         title='Stock Candlestick Chart: July 2017 to Feb 2018',\n",
    "         ylabel='Price',\n",
    "         ylabel_lower='Volume')"
   ]
  },
  {
   "cell_type": "code",
   "execution_count": null,
   "metadata": {
    "colab": {
     "base_uri": "https://localhost:8080/",
     "height": 525
    },
    "id": "n9gMCT-W7Q3h",
    "outputId": "d97b66be-5088-4a87-dd74-c848b24b1467"
   },
   "outputs": [],
   "source": [
    "import pandas as pd\n",
    "import mplfinance as mpf\n",
    "import numpy as np\n",
    "\n",
    "# Load and prepare data\n",
    "df = pd.read_csv(\"enhanced_stock_dataset.csv\", parse_dates=['Date'])\n",
    "df.set_index('Date', inplace=True)\n",
    "\n",
    "# Ensure we have required columns\n",
    "required_cols = ['Open', 'High', 'Low', 'Close', 'Volume', 'Sentiment']\n",
    "df = df[required_cols]\n",
    "\n",
    "# Reduce data to last 90 days (adjust as needed)\n",
    "plot_data = df.iloc[-90:]\n",
    "\n",
    "# Create sentiment highlights - FIXED VERSION\n",
    "sentiment_highlights = []\n",
    "colors = {'Bullish': 'lime', 'Bearish': 'yellow', 'Neutral': 'gray'}\n",
    "\n",
    "for sentiment, color in colors.items():\n",
    "    mask = (plot_data['Sentiment'] == sentiment)\n",
    "    if mask.any():\n",
    "        # Create proper y-values aligned with the mask\n",
    "        y_values = np.where(mask, plot_data['Close'], np.nan)\n",
    "\n",
    "        highlight = mpf.make_addplot(\n",
    "            y_values,\n",
    "            type='scatter',\n",
    "            marker='|',\n",
    "            color=color,\n",
    "            alpha=0.3,\n",
    "            markersize=1000,\n",
    "            fill_between=dict(\n",
    "                y1=plot_data['Low'].min(),\n",
    "                y2=plot_data['High'].max(),\n",
    "                alpha=0.001\n",
    "            )\n",
    "        )\n",
    "        sentiment_highlights.append(highlight)\n",
    "\n",
    "# Plot configuration\n",
    "plot_kwargs = {\n",
    "    'type': 'candle',\n",
    "    'style': 'charles',\n",
    "    'mav': (3, 10),\n",
    "    'volume': True,\n",
    "    'title': 'Stock Price with Sentiment Overlay',\n",
    "    'ylabel': 'Price',\n",
    "    'ylabel_lower': 'Volume',\n",
    "    'figratio': (16, 8),\n",
    "    'warn_too_much_data': 10000,\n",
    "    'addplot': sentiment_highlights\n",
    "}\n",
    "\n",
    "# Generate the plot\n",
    "mpf.plot(plot_data, **plot_kwargs)"
   ]
  },
  {
   "cell_type": "code",
   "execution_count": null,
   "metadata": {
    "colab": {
     "base_uri": "https://localhost:8080/"
    },
    "id": "_JOukvtXUD7F",
    "outputId": "848356d9-0938-4c87-8b16-6662f2718a89"
   },
   "outputs": [],
   "source": [
    "import pandas as pd\n",
    "import mplfinance as mpf\n",
    "import matplotlib.pyplot as plt\n",
    "import numpy as np\n",
    "\n",
    "# 1. Load data\n",
    "df = pd.read_csv(\"enhanced_stock_dataset.csv\", parse_dates=['Date'])\n",
    "df.set_index('Date', inplace=True)\n",
    "\n",
    "# 2. Filter data by custom date range (edit these as needed)\n",
    "start_date = '2013-02-11'\n",
    "end_date = '2018-02-07'\n",
    "plot_data = df.loc[start_date:end_date]\n",
    "\n",
    "# Optional check\n",
    "print(\"Data range selected:\", plot_data.index.min(), \"to\", plot_data.index.max())\n",
    "print(\"Sentiment counts:\\n\", plot_data['Sentiment'].value_counts())\n",
    "print(\"Bearish days in selected timeframe:\",\n",
    "plot_data[plot_data['Sentiment'] == 'Bearish'].shape[0])\n",
    "bearish_mask = plot_data['Sentiment'] == 'Bearish'\n",
    "print(\"Bearish mask sample:\\n\", bearish_mask.head())\n",
    "print(\"Bearish y-values:\\n\", plot_data['Low'][bearish_mask] * 0.98)\n",
    "# 3. Create sentiment markers\n",
    "def create_sentiment_markers(data):\n",
    "    apds = []\n",
    "    sentiment_config = {\n",
    "        'Bullish': {'marker': '^', 'color': 'lime', 'size': 50, 'y_offset': 0.02},\n",
    "        'Bearish': {'marker': 'v', 'color': 'red', 'size': 50, 'y_offset': -0.02},\n",
    "        'Neutral': {'marker': 'o', 'color': 'gray', 'size': 25, 'y_offset': 0}\n",
    "    }\n",
    "\n",
    "    for sentiment, config in sentiment_config.items():\n",
    "        mask = data['Sentiment'] == sentiment\n",
    "        if mask.sum() == 0:\n",
    "            continue  # Skip if no such sentiment present\n",
    "\n",
    "        # y-values offset based on High/Low\n",
    "        if config['y_offset'] > 0:\n",
    "            y_values = data['High'] * (1 + config['y_offset'])\n",
    "        elif config['y_offset'] < 0:\n",
    "            y_values = data['Low'] * (1 + config['y_offset'])\n",
    "        else:\n",
    "            y_values = data['Close']\n",
    "\n",
    "        apd = mpf.make_addplot(\n",
    "            y_values.where(mask),  # ensures matching x and y lengths\n",
    "            type='scatter',\n",
    "            marker=config['marker'],\n",
    "            color=config['color'],\n",
    "            markersize=config['size'],\n",
    "            alpha=0.7,\n",
    "            panel=0\n",
    "        )\n",
    "        apds.append(apd)\n",
    "        print(f\"Adding sentiment markers for: {sentiment}, Count: {mask.sum()}\")\n",
    "    return apds\n",
    "\n",
    "# 4. Plot\n",
    "try:\n",
    "    sentiment_markers = create_sentiment_markers(plot_data)\n",
    "    mpf.plot(\n",
    "        plot_data[['Open', 'High', 'Low', 'Close', 'Volume']],\n",
    "        type='candle',\n",
    "        style='charles',\n",
    "        mav=(3, 10),\n",
    "        volume=True,\n",
    "        addplot=sentiment_markers,\n",
    "        title='Stock Price with Sentiment Indicators',\n",
    "        figratio=(16, 8),\n",
    "        savefig='stock_with_sentiment.png'\n",
    "    )\n",
    "    print(\"✅ Plot successfully generated as 'stock_with_sentiment.png'\")\n",
    "except Exception as e:\n",
    "    print(f\"❌ Error generating plot: {str(e)}\")\n",
    "    print(\"Please check dataset format and sentiment values.\")\n"
   ]
  },
  {
   "cell_type": "code",
   "execution_count": null,
   "metadata": {
    "colab": {
     "base_uri": "https://localhost:8080/",
     "height": 426
    },
    "id": "chpSIkFWUSmJ",
    "outputId": "20cfafbc-6c9e-4d38-dcc2-462efe9617d6"
   },
   "outputs": [],
   "source": [
    "from IPython.display import Image\n",
    "Image(filename='stock_with_sentiment.png')"
   ]
  },
  {
   "cell_type": "code",
   "execution_count": null,
   "metadata": {
    "id": "0R3YiD4fsJab"
   },
   "outputs": [],
   "source": [
    "def compute_rsi(df, window=14):\n",
    "    delta = df['Close'].diff()\n",
    "    gain = delta.clip(lower=0)\n",
    "    loss = -delta.clip(upper=0)\n",
    "    avg_gain = gain.rolling(window).mean()\n",
    "    avg_loss = loss.rolling(window).mean()\n",
    "    rs = avg_gain / avg_loss\n",
    "    df['RSI'] = 100 - (100 / (1 + rs))\n",
    "    return df\n"
   ]
  },
  {
   "cell_type": "code",
   "execution_count": null,
   "metadata": {
    "id": "JNY_PHqdsQQ5"
   },
   "outputs": [],
   "source": [
    "def compute_macd(df, short_window=12, long_window=26, signal_window=9):\n",
    "    short_ema = df['Close'].ewm(span=short_window, adjust=False).mean()\n",
    "    long_ema = df['Close'].ewm(span=long_window, adjust=False).mean()\n",
    "    df['MACD'] = short_ema - long_ema\n",
    "    df['MACD_Signal'] = df['MACD'].ewm(span=signal_window, adjust=False).mean()\n",
    "    return df\n"
   ]
  },
  {
   "cell_type": "code",
   "execution_count": null,
   "metadata": {
    "id": "ipnP2Dt7sU1F"
   },
   "outputs": [],
   "source": [
    "def compute_bollinger_bands(df, window=20, num_std=2):\n",
    "    sma = df['Close'].rolling(window=window).mean()\n",
    "    std = df['Close'].rolling(window=window).std()\n",
    "    df['BB_Upper'] = sma + num_std * std\n",
    "    df['BB_Lower'] = sma - num_std * std\n",
    "    return df\n"
   ]
  },
  {
   "cell_type": "code",
   "execution_count": null,
   "metadata": {
    "id": "9SvUJvXqsY2o"
   },
   "outputs": [],
   "source": [
    "import pandas as pd\n",
    "\n",
    "df = pd.read_csv(\"enhanced_stock_dataset.csv\", parse_dates=[\"Date\"], index_col=\"Date\")\n",
    "df = compute_rsi(df)\n",
    "df = compute_macd(df)\n",
    "df = compute_bollinger_bands(df)\n",
    "df.to_csv(\"data_with_indicators.csv\")\n"
   ]
  },
  {
   "cell_type": "code",
   "execution_count": null,
   "metadata": {
    "colab": {
     "base_uri": "https://localhost:8080/",
     "height": 849
    },
    "id": "AQWyWBdhu_08",
    "outputId": "c48e1ee2-7431-44fc-bcaa-9cfdb24be7f9"
   },
   "outputs": [],
   "source": [
    "import mplfinance as mpf\n",
    "start_date = '2013-02-11'\n",
    "end_date = '2018-02-07'\n",
    "plot_data = df.loc[start_date:end_date]\n",
    "indicator_plots = [\n",
    "    mpf.make_addplot(plot_data['RSI'], panel=1, color='purple', ylabel='RSI'),\n",
    "    mpf.make_addplot(plot_data['MACD'], panel=2, color='blue', ylabel='MACD'),\n",
    "    mpf.make_addplot(plot_data['MACD_Signal'], panel=2, color='orange'),\n",
    "    mpf.make_addplot(plot_data['BB_Upper'], color='green'),\n",
    "    mpf.make_addplot(plot_data['BB_Lower'], color='red')\n",
    "]\n",
    "mpf.plot(\n",
    "    plot_data,\n",
    "    type='candle',\n",
    "    style='yahoo',\n",
    "    addplot=indicator_plots,\n",
    "    volume=True,\n",
    "    title=f'Stock with RSI, MACD, Bollinger Bands ({start_date} to {end_date})'\n",
    ")\n"
   ]
  },
  {
   "cell_type": "code",
   "execution_count": null,
   "metadata": {
    "colab": {
     "base_uri": "https://localhost:8080/"
    },
    "id": "ytMhuI7GzXma",
    "outputId": "0266235a-2e23-4844-860b-8db3a716ce9e"
   },
   "outputs": [],
   "source": [
    "!pip install ipywidgets"
   ]
  },
  {
   "cell_type": "code",
   "execution_count": null,
   "metadata": {
    "colab": {
     "base_uri": "https://localhost:8080/",
     "height": 111,
     "referenced_widgets": [
      "bf067c1e1a7a4867821e83ce9b23123d",
      "3452790fd57e44f589b006fb3def5429",
      "f415b94c97014a0393cc9929f2f2bfbc",
      "b87eacca724045ccb1c06e5334c774ae",
      "bdc6d0bc00b04f7991fc68e67555bc29",
      "d61905c56f904f23a08c823ef70ad254",
      "894dd6ca50b44929a3dbdf8b56745634",
      "9d6914a97443404990d1b11464beb9a6",
      "4ee440126d424e8285dc8d9aa49dcd04"
     ]
    },
    "id": "4jrZ7rlQzb7B",
    "outputId": "941b674d-f845-467d-fb1b-feb9ca7e2636"
   },
   "outputs": [],
   "source": [
    "import pandas as pd\n",
    "import mplfinance as mpf\n",
    "import matplotlib.pyplot as plt\n",
    "import ipywidgets as widgets\n",
    "from IPython.display import display\n",
    "\n",
    "# Assume your df is already preloaded and has RSI, MACD, etc.\n",
    "df.index = pd.to_datetime(df.index)\n",
    "\n",
    "# Widgets for selecting start and end dates\n",
    "start_picker = widgets.DatePicker(\n",
    "    description='Start Date',\n",
    "    value=pd.to_datetime(\"2013-02-11\"),\n",
    "    disabled=False\n",
    ")\n",
    "\n",
    "end_picker = widgets.DatePicker(\n",
    "    description='End Date',\n",
    "    value=pd.to_datetime(\"2013-08-31\"),\n",
    "    disabled=False\n",
    ")\n",
    "\n",
    "plot_button = widgets.Button(description=\"Plot Chart\")\n",
    "\n",
    "def plot_interactive_chart(b):\n",
    "    start_date = start_picker.value.strftime('%Y-%m-%d')\n",
    "    end_date = end_picker.value.strftime('%Y-%m-%d')\n",
    "    plot_data = df.loc[start_date:end_date]\n",
    "\n",
    "    # Make indicator plots (assumes indicators already computed in df)\n",
    "    indicator_plots = [\n",
    "        mpf.make_addplot(plot_data['RSI'], panel=1, color='purple', ylabel='RSI'),\n",
    "        mpf.make_addplot(plot_data['MACD'], panel=2, color='blue', ylabel='MACD'),\n",
    "        mpf.make_addplot(plot_data['MACD_Signal'], panel=2, color='orange'),\n",
    "        mpf.make_addplot(plot_data['BB_Upper'], color='green'),\n",
    "        mpf.make_addplot(plot_data['BB_Lower'], color='red')\n",
    "    ]\n",
    "\n",
    "    # Add sentiment markers (optional)\n",
    "    sentiment_markers = create_sentiment_markers(plot_data)\n",
    "    all_plots = indicator_plots + sentiment_markers\n",
    "\n",
    "    # Plot\n",
    "    mpf.plot(\n",
    "        plot_data,\n",
    "        type='candle',\n",
    "        style='yahoo',\n",
    "        addplot=all_plots,\n",
    "        volume=True,\n",
    "        title=f'Stock Chart ({start_date} to {end_date})',\n",
    "        figratio=(16, 8)\n",
    "    )\n",
    "\n",
    "# Bind button to function\n",
    "plot_button.on_click(plot_interactive_chart)\n",
    "\n",
    "# Display\n",
    "display(start_picker, end_picker, plot_button)\n"
   ]
  },
  {
   "cell_type": "code",
   "execution_count": null,
   "metadata": {
    "id": "ZknT3zQLRBHg"
   },
   "outputs": [],
   "source": [
    "def label_sentiment_enhanced(df):\n",
    "    sentiment = []\n",
    "\n",
    "    for i in range(len(df)):\n",
    "        row = df.iloc[i]\n",
    "\n",
    "        rsi = row.get('RSI')\n",
    "        macd = row.get('MACD')\n",
    "        signal = row.get('MACD_Signal')\n",
    "        close = row.get('Close')\n",
    "        upper_band = row.get('BB_Upper')\n",
    "        lower_band = row.get('BB_Lower')\n",
    "\n",
    "        label = 'Neutral'\n",
    "\n",
    "        # Skip rows with missing values\n",
    "        if pd.isna(rsi) or pd.isna(macd) or pd.isna(signal):\n",
    "            sentiment.append(np.nan)\n",
    "            continue\n",
    "\n",
    "        # --- Bullish Conditions ---\n",
    "        if (\n",
    "            rsi < 30 or\n",
    "            (macd > signal and macd - signal > 0.2) or\n",
    "            (not pd.isna(lower_band) and close < lower_band)\n",
    "        ):\n",
    "            label = 'Bullish'\n",
    "\n",
    "        # --- Bearish Conditions ---\n",
    "        elif (\n",
    "            rsi > 70 or\n",
    "            (macd < signal and signal - macd > 0.2) or\n",
    "            (not pd.isna(upper_band) and close > upper_band)\n",
    "        ):\n",
    "            label = 'Bearish'\n",
    "\n",
    "        sentiment.append(label)\n",
    "\n",
    "    df['Sentiment_Enhanced'] = sentiment\n",
    "\n",
    "    return df\n"
   ]
  },
  {
   "cell_type": "code",
   "execution_count": null,
   "metadata": {
    "id": "SCTQzeoURGzL"
   },
   "outputs": [],
   "source": [
    "df = compute_rsi(df)\n",
    "df = compute_macd(df)\n",
    "df = compute_bollinger_bands(df)\n",
    "df = label_sentiment_enhanced(df)\n",
    "start_date = '2013-02-11'\n",
    "end_date = '2018-02-07'\n",
    "plot_data = df.loc[start_date:end_date]"
   ]
  },
  {
   "cell_type": "code",
   "execution_count": null,
   "metadata": {
    "colab": {
     "base_uri": "https://localhost:8080/"
    },
    "id": "Dw3LIqNVVP_E",
    "outputId": "fd3b4a94-c47c-4bae-de35-0e9813164b7e"
   },
   "outputs": [],
   "source": [
    "import mplfinance as mpf\n",
    "\n",
    "def create_enhanced_sentiment_markers(data):\n",
    "    apds = []\n",
    "    sentiment_config = {\n",
    "        'Bullish': {'marker': '^', 'color': 'lime', 'size': 50, 'y_offset': 0.02},\n",
    "        'Bearish': {'marker': 'v', 'color': 'red', 'size': 50, 'y_offset': -0.02},\n",
    "        'Neutral': {'marker': 'o', 'color': 'gray', 'size': 25, 'y_offset': 0}\n",
    "    }\n",
    "\n",
    "    for sentiment, config in sentiment_config.items():\n",
    "        mask = data['Sentiment_Enhanced'] == sentiment\n",
    "        if mask.sum() == 0:\n",
    "            continue  # Skip if no such sentiment present\n",
    "\n",
    "        # y-values offset based on High/Low/Close\n",
    "        if config['y_offset'] > 0:\n",
    "            y_values = data['High'] * (1 + config['y_offset'])\n",
    "        elif config['y_offset'] < 0:\n",
    "            y_values = data['Low'] * (1 + config['y_offset'])\n",
    "        else:\n",
    "            y_values = data['Close']\n",
    "\n",
    "        apd = mpf.make_addplot(\n",
    "            y_values.where(mask),\n",
    "            type='scatter',\n",
    "            marker=config['marker'],\n",
    "            color=config['color'],\n",
    "            markersize=config['size'],\n",
    "            alpha=0.7,\n",
    "            panel=0\n",
    "        )\n",
    "        apds.append(apd)\n",
    "        print(f\"📍 Added Enhanced Sentiment Markers for: {sentiment}, Count: {mask.sum()}\")\n",
    "\n",
    "    return apds\n",
    "\n",
    "# 🔁 Apply to selected plot_data range\n",
    "try:\n",
    "    enhanced_sentiment_markers = create_enhanced_sentiment_markers(plot_data)\n",
    "\n",
    "    mpf.plot(\n",
    "        plot_data[['Open', 'High', 'Low', 'Close', 'Volume']],\n",
    "        type='candle',\n",
    "        style='yahoo',\n",
    "        mav=(3, 10),\n",
    "        volume=True,\n",
    "        addplot=enhanced_sentiment_markers,\n",
    "        title='Stock Price with Enhanced Sentiment Markers',\n",
    "        figratio=(16, 8),\n",
    "        savefig='stock_with_enhanced_sentiment.png'\n",
    "    )\n",
    "    print(\"✅ Enhanced sentiment plot saved as 'stock_with_enhanced_sentiment.png'\")\n",
    "except Exception as e:\n",
    "    print(f\"❌ Error: {str(e)}\")\n"
   ]
  },
  {
   "cell_type": "code",
   "execution_count": null,
   "metadata": {
    "colab": {
     "base_uri": "https://localhost:8080/",
     "height": 426
    },
    "id": "hwqfEbh3XhL6",
    "outputId": "7f2c3e4d-dc92-47c7-e1bf-4ce26cc8200a"
   },
   "outputs": [],
   "source": [
    "from IPython.display import Image\n",
    "Image(filename='stock_with_enhanced_sentiment.png')"
   ]
  },
  {
   "cell_type": "code",
   "execution_count": null,
   "metadata": {
    "colab": {
     "base_uri": "https://localhost:8080/"
    },
    "id": "HKp38cOp3pJC",
    "outputId": "68647a7c-94e5-48a4-ba32-4ff837608214"
   },
   "outputs": [],
   "source": [
    "# 🔄 Save the dataset with enhanced sentiment\n",
    "output_file = 'enhanced_sentiment_stock_data.csv'\n",
    "df.to_csv(output_file, index=True)\n",
    "print(f\"📁 Enhanced dataset saved to '{output_file}'\")\n"
   ]
  },
  {
   "cell_type": "code",
   "execution_count": null,
   "metadata": {
    "id": "RcaQjb4lD0j-"
   },
   "outputs": [],
   "source": [
    "def backtest_strategy(df, sentiment_column, initial_cash=100000):\n",
    "    cash = initial_cash\n",
    "    shares = 0\n",
    "    portfolio_values = []\n",
    "    portfolio_dates = []\n",
    "    trades_log = []\n",
    "\n",
    "    for i, row in df.iterrows():\n",
    "        price = row['Close']\n",
    "        signal = row[sentiment_column]\n",
    "\n",
    "        # Record current portfolio value\n",
    "        total_value = cash + shares * price\n",
    "        portfolio_values.append(total_value)\n",
    "        portfolio_dates.append(i)\n",
    "\n",
    "        # BUY\n",
    "        if signal == 'Bullish' and shares == 0:\n",
    "            shares = cash // price\n",
    "            cash -= shares * price\n",
    "            trades_log.append((i, 'BUY', price, shares))\n",
    "\n",
    "        # SELL\n",
    "        elif signal == 'Bearish' and shares > 0:\n",
    "            cash += shares * price\n",
    "            trades_log.append((i, 'SELL', price, shares))\n",
    "            shares = 0\n",
    "\n",
    "    # Final value\n",
    "    final_value = cash + shares * df.iloc[-1]['Close']\n",
    "    total_return = (final_value - initial_cash) / initial_cash * 100\n",
    "    num_trades = len(trades_log)\n",
    "\n",
    "    print(f\"\\n📊 Backtest Results for: {sentiment_column}\")\n",
    "    print(f\"➡️ Final Portfolio Value: ₹{final_value:,.2f}\")\n",
    "    print(f\"📈 Total Return: {total_return:.2f}%\")\n",
    "    print(f\"🔁 Total Trades Executed: {num_trades}\")\n",
    "\n",
    "    return portfolio_dates, portfolio_values, trades_log\n",
    "\n"
   ]
  },
  {
   "cell_type": "code",
   "execution_count": null,
   "metadata": {
    "id": "9EFkiSQPIk24"
   },
   "outputs": [],
   "source": [
    "import matplotlib.pyplot as plt\n",
    "\n",
    "def plot_portfolio_growth(dates, values_basic, values_enhanced):\n",
    "    plt.figure(figsize=(14, 6))\n",
    "    plt.plot(dates, values_basic, label='Sentiment Strategy', color='orange', linewidth=2)\n",
    "    plt.plot(dates, values_enhanced, label='Enhanced Sentiment Strategy', color='green', linewidth=2)\n",
    "    plt.title('📈 Portfolio Growth Comparison')\n",
    "    plt.xlabel('Date')\n",
    "    plt.ylabel('Portfolio Value (₹)')\n",
    "    plt.legend()\n",
    "    plt.grid(True)\n",
    "    plt.tight_layout()\n",
    "    plt.show()\n"
   ]
  },
  {
   "cell_type": "code",
   "execution_count": null,
   "metadata": {
    "colab": {
     "base_uri": "https://localhost:8080/",
     "height": 628
    },
    "id": "BxOpfKLpD5vc",
    "outputId": "9e59e035-317c-41d9-fcfc-f45abad1cc20"
   },
   "outputs": [],
   "source": [
    "# Run both\n",
    "dates1, values1, trades1 = backtest_strategy(df, 'Sentiment')\n",
    "dates2, values2, trades2 = backtest_strategy(df, 'Sentiment_Enhanced')\n",
    "\n",
    "# Plot growth comparison\n",
    "plot_portfolio_growth(dates1, values1, values2)\n",
    "\n"
   ]
  },
  {
   "cell_type": "code",
   "execution_count": null,
   "metadata": {
    "colab": {
     "base_uri": "https://localhost:8080/"
    },
    "id": "Ok9wi-8RJLRI",
    "outputId": "2e4cd93e-0f1a-4fca-aea3-876a6aa9df30"
   },
   "outputs": [],
   "source": [
    "import pandas as pd\n",
    "\n",
    "def export_trades(trades, filename):\n",
    "    df_trades = pd.DataFrame(trades, columns=['Date', 'Action', 'Price', 'Shares'])\n",
    "    df_trades.to_csv(filename, index=False)\n",
    "    print(f\"📁 Trades exported to '{filename}'\")\n",
    "\n",
    "# Save logs\n",
    "export_trades(trades1, 'trades_sentiment.csv')\n",
    "export_trades(trades2, 'trades_sentiment_enhanced.csv')\n"
   ]
  },
  {
   "cell_type": "code",
   "execution_count": null,
   "metadata": {
    "colab": {
     "base_uri": "https://localhost:8080/"
    },
    "id": "shfNb0ngO85O",
    "outputId": "f691dfd1-59c3-455c-d74f-763a40cb631d"
   },
   "outputs": [],
   "source": [
    "import pandas as pd\n",
    "\n",
    "# Load the trade logs\n",
    "trades_sentiment = pd.read_csv('trades_sentiment.csv', parse_dates=['Date'])\n",
    "trades_sentiment_enhanced = pd.read_csv('trades_sentiment_enhanced.csv', parse_dates=['Date'])\n",
    "\n",
    "# Preview\n",
    "print(\"📄 Sentiment Trades\")\n",
    "print(trades_sentiment.head())\n",
    "print(\"\\n📄 Enhanced Sentiment Trades\")\n",
    "print(trades_sentiment_enhanced.head())\n"
   ]
  },
  {
   "cell_type": "code",
   "execution_count": null,
   "metadata": {
    "id": "5S4LB3uiPOn7"
   },
   "outputs": [],
   "source": [
    "def analyze_trades(trades_df):\n",
    "    trades_df = trades_df.copy()\n",
    "    trades_df['PnL'] = 0.0\n",
    "    trades_df['Holding_Days'] = 0\n",
    "\n",
    "    in_position = False\n",
    "    entry_price = 0\n",
    "    entry_date = None\n",
    "    total_gains = []\n",
    "    holding_days = []\n",
    "\n",
    "    for i in range(len(trades_df)):\n",
    "        row = trades_df.iloc[i]\n",
    "        if row['Action'] == 'BUY':\n",
    "            in_position = True\n",
    "            entry_price = row['Price']\n",
    "            entry_date = row['Date']\n",
    "        elif row['Action'] == 'SELL' and in_position:\n",
    "            exit_price = row['Price']\n",
    "            pnl = (exit_price - entry_price) * row['Shares']\n",
    "            days_held = (row['Date'] - entry_date).days\n",
    "\n",
    "            trades_df.loc[i, 'PnL'] = pnl\n",
    "            trades_df.loc[i, 'Holding_Days'] = days_held\n",
    "\n",
    "            total_gains.append(pnl)\n",
    "            holding_days.append(days_held)\n",
    "\n",
    "            in_position = False  # reset\n",
    "\n",
    "    if total_gains:\n",
    "        avg_pnl = sum(total_gains) / len(total_gains)\n",
    "        profitable = sum(1 for g in total_gains if g > 0) / len(total_gains) * 100\n",
    "        avg_hold = sum(holding_days) / len(holding_days)\n",
    "    else:\n",
    "        avg_pnl = 0\n",
    "        profitable = 0\n",
    "        avg_hold = 0\n",
    "\n",
    "    return {\n",
    "        'Total Trades': len(trades_df) // 2,\n",
    "        'Avg Gain/Loss per Trade': round(avg_pnl, 2),\n",
    "        'Profitable Trades (%)': round(profitable, 2),\n",
    "        'Avg Holding Days': round(avg_hold, 2)\n",
    "    }\n"
   ]
  },
  {
   "cell_type": "code",
   "execution_count": null,
   "metadata": {
    "colab": {
     "base_uri": "https://localhost:8080/"
    },
    "id": "80QJczuvPT6v",
    "outputId": "5db63f69-cf66-4e10-9f31-a85f5ab02b60"
   },
   "outputs": [],
   "source": [
    "summary_sentiment = analyze_trades(trades_sentiment)\n",
    "summary_sentiment_enhanced = analyze_trades(trades_sentiment_enhanced)\n",
    "\n",
    "# Combine and view\n",
    "comparison_df = pd.DataFrame([summary_sentiment, summary_sentiment_enhanced], index=['Sentiment', 'Enhanced Sentiment'])\n",
    "print(\"📊 Trade Summary Comparison\")\n",
    "print(comparison_df)\n"
   ]
  },
  {
   "cell_type": "code",
   "execution_count": null,
   "metadata": {
    "colab": {
     "base_uri": "https://localhost:8080/"
    },
    "id": "ZNONGyacPm5h",
    "outputId": "21fbdcde-3e25-402b-e63a-1634105aa15e"
   },
   "outputs": [],
   "source": [
    "# Save the trade summary comparison\n",
    "comparison_df.to_csv('trade_summary_comparison.csv')\n",
    "print(\"📁 Trade summary comparison saved as 'trade_summary_comparison.csv'\")"
   ]
  },
  {
   "cell_type": "code",
   "execution_count": null,
   "metadata": {
    "colab": {
     "base_uri": "https://localhost:8080/"
    },
    "id": "ORrh-DZc-SEt",
    "outputId": "518e1b40-667d-4444-a069-6d9504944258"
   },
   "outputs": [],
   "source": [
    "import pandas as pd\n",
    "\n",
    "# Load the trade CSVs\n",
    "sentiment_df = pd.read_csv(\"trades_sentiment.csv\")\n",
    "enhanced_df = pd.read_csv(\"trades_sentiment_enhanced.csv\")\n",
    "\n",
    "from datetime import datetime\n",
    "\n",
    "def compute_metrics(trades_df):\n",
    "    trades_df['Date'] = pd.to_datetime(trades_df['Date'])\n",
    "    holding_times = []\n",
    "    profits = []\n",
    "\n",
    "    position = 0\n",
    "    entry_price = None\n",
    "    entry_date = None\n",
    "\n",
    "    for i, row in trades_df.iterrows():\n",
    "        if row['Action'] == 'BUY':\n",
    "            if position == 0:\n",
    "                entry_price = row['Price']\n",
    "                entry_date = row['Date']\n",
    "                position = row['Shares']\n",
    "        elif row['Action'] == 'SELL' and position > 0:\n",
    "            exit_price = row['Price']\n",
    "            exit_date = row['Date']\n",
    "            profit = (exit_price - entry_price) * position\n",
    "            duration = (exit_date - entry_date).days\n",
    "            profits.append(profit)\n",
    "            holding_times.append(duration)\n",
    "            position = 0  # reset\n",
    "\n",
    "    return holding_times, profits\n",
    "\n",
    "# Extract data\n",
    "holding_times_sentiment, profits_sentiment = compute_metrics(sentiment_df)\n",
    "holding_times_enhanced, profits_enhanced = compute_metrics(enhanced_df)\n",
    "\n",
    "# Sanity check\n",
    "print(\"Sentiment Trades:\", len(holding_times_sentiment))\n",
    "print(\"Enhanced Trades:\", len(holding_times_enhanced))\n"
   ]
  },
  {
   "cell_type": "code",
   "execution_count": null,
   "metadata": {
    "colab": {
     "base_uri": "https://localhost:8080/",
     "height": 354
    },
    "id": "d2Nj3Zn5-fAQ",
    "outputId": "b7827a42-6910-4795-da95-2542875ea699"
   },
   "outputs": [],
   "source": [
    "import matplotlib.pyplot as plt\n",
    "\n",
    "plt.figure(figsize=(12, 5))\n",
    "\n",
    "# --- Plot Holding Times ---\n",
    "plt.subplot(1, 2, 1)\n",
    "plt.hist(holding_times_sentiment, bins=15, alpha=0.6, label=\"Sentiment\", color='skyblue')\n",
    "plt.hist(holding_times_enhanced, bins=15, alpha=0.6, label=\"Enhanced\", color='orange')\n",
    "plt.xlabel(\"Holding Time (days)\")\n",
    "plt.ylabel(\"Number of Trades\")\n",
    "plt.title(\"Distribution of Holding Times\")\n",
    "plt.legend()\n",
    "plt.grid(True)\n",
    "\n",
    "# --- Plot PnL Distributions ---\n",
    "plt.subplot(1, 2, 2)\n",
    "plt.hist(profits_sentiment, bins=20, alpha=0.6, label=\"Sentiment\", color='skyblue')\n",
    "plt.hist(profits_enhanced, bins=20, alpha=0.6, label=\"Enhanced\", color='orange')\n",
    "plt.xlabel(\"Profit per Trade (₹)\")\n",
    "plt.ylabel(\"Number of Trades\")\n",
    "plt.title(\"Distribution of Profit per Trade\")\n",
    "plt.legend()\n",
    "plt.grid(True)\n",
    "\n",
    "plt.tight_layout()\n",
    "plt.show()\n"
   ]
  },
  {
   "cell_type": "code",
   "execution_count": null,
   "metadata": {
    "colab": {
     "base_uri": "https://localhost:8080/",
     "height": 712
    },
    "id": "y8TINPQoR6G5",
    "outputId": "534603fb-7e17-4ec9-f213-b6a8c4c0b05f"
   },
   "outputs": [],
   "source": [
    "import pandas as pd\n",
    "import matplotlib.pyplot as plt\n",
    "\n",
    "# Load stock data\n",
    "df = pd.read_csv('/content/enhanced_sentiment_stock_data.csv', parse_dates=['Date'])\n",
    "df.set_index('Date', inplace=True)\n",
    "\n",
    "# Load trades\n",
    "trades_basic = pd.read_csv('/content/trades_sentiment.csv', parse_dates=['Date'])\n",
    "trades_enhanced = pd.read_csv('/content/trades_sentiment_enhanced.csv', parse_dates=['Date'])\n",
    "\n",
    "def plot_trades(df, trades, title):\n",
    "    plt.figure(figsize=(14,6))\n",
    "    plt.plot(df.index, df['Close'], label='Close Price', alpha=0.7)\n",
    "\n",
    "    # Plot Buy trades\n",
    "    buy_trades = trades[trades['Action'] == 'BUY']\n",
    "    plt.scatter(buy_trades['Date'], df.loc[buy_trades['Date']]['Close'],\n",
    "                marker='^', color='green', label='Buy', s=100)\n",
    "\n",
    "    # Plot Sell trades\n",
    "    sell_trades = trades[trades['Action'] == 'SELL']\n",
    "    plt.scatter(sell_trades['Date'], df.loc[sell_trades['Date']]['Close'],\n",
    "                marker='v', color='red', label='Sell', s=100)\n",
    "\n",
    "    plt.title(f'{title} - Trade Actions on Stock Price')\n",
    "    plt.xlabel('Date')\n",
    "    plt.ylabel('Price')\n",
    "    plt.legend()\n",
    "    plt.grid(True)\n",
    "    plt.tight_layout()\n",
    "    plt.show()\n",
    "\n",
    "# Plot for Basic Sentiment Strategy\n",
    "plot_trades(df, trades_basic, title='Basic Sentiment Strategy')\n",
    "\n",
    "# Plot for Enhanced Sentiment Strategy\n",
    "plot_trades(df, trades_enhanced, title='Enhanced Sentiment Strategy')\n"
   ]
  }
 ],
 "metadata": {
  "colab": {
   "provenance": []
  },
  "kernelspec": {
   "display_name": "Python 3",
   "name": "python3"
  },
  "language_info": {
   "name": "python"
  }
 },
 "nbformat": 4,
 "nbformat_minor": 0
}
